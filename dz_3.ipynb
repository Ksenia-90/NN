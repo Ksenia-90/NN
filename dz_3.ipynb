{
  "nbformat": 4,
  "nbformat_minor": 0,
  "metadata": {
    "colab": {
      "name": "dz_3.ipynb",
      "provenance": [],
      "collapsed_sections": [],
      "include_colab_link": true
    },
    "kernelspec": {
      "name": "python3",
      "display_name": "Python 3"
    },
    "language_info": {
      "name": "python"
    },
    "accelerator": "GPU"
  },
  "cells": [
    {
      "cell_type": "markdown",
      "metadata": {
        "id": "view-in-github",
        "colab_type": "text"
      },
      "source": [
        "<a href=\"https://colab.research.google.com/github/Ksenia-90/NN/blob/lesson_3/dz_3.ipynb\" target=\"_parent\"><img src=\"https://colab.research.google.com/assets/colab-badge.svg\" alt=\"Open In Colab\"/></a>"
      ]
    },
    {
      "cell_type": "markdown",
      "source": [
        "# Влияние функций активации на классификацию"
      ],
      "metadata": {
        "id": "zzyo25bnaP30"
      }
    },
    {
      "cell_type": "markdown",
      "source": [
        "# Домашнее задание"
      ],
      "metadata": {
        "id": "ycElwFj_RBys"
      }
    },
    {
      "cell_type": "markdown",
      "source": [
        "https://scikit-learn.org/stable/modules/generated/sklearn.datasets.load_wine.html#sklearn.datasets.load_wine"
      ],
      "metadata": {
        "id": "089ZkMffRYu6"
      }
    },
    {
      "cell_type": "code",
      "source": [
        "from sklearn.datasets import load_wine\n",
        "from sklearn.model_selection import train_test_split"
      ],
      "metadata": {
        "id": "SkW0cWmmQWEv"
      },
      "execution_count": 141,
      "outputs": []
    },
    {
      "cell_type": "code",
      "source": [
        "import tensorflow as tf\n",
        "print(tf.__version__)\n",
        "msg = tf.constant('TensorFlow 2.0 Hello World')\n",
        "tf.print(msg)"
      ],
      "metadata": {
        "colab": {
          "base_uri": "https://localhost:8080/"
        },
        "id": "sLIHn_iZw_Kp",
        "outputId": "4216287b-0665-41d2-b09f-0ad772767b6c"
      },
      "execution_count": 142,
      "outputs": [
        {
          "output_type": "stream",
          "name": "stdout",
          "text": [
            "2.8.2\n",
            "TensorFlow 2.0 Hello World\n"
          ]
        }
      ]
    },
    {
      "cell_type": "code",
      "source": [
        "from tensorflow.keras.layers import Input, Flatten\n",
        "from tensorflow.keras.models import Model\n",
        "from tensorflow.keras.optimizers import Adam, SGD, RMSprop, Adagrad"
      ],
      "metadata": {
        "id": "aYTViBcbxqS1"
      },
      "execution_count": 143,
      "outputs": []
    },
    {
      "cell_type": "code",
      "source": [
        "from tensorflow import keras\n",
        "import numpy as np\n",
        "import matplotlib.pyplot as plt\n",
        "from sklearn.metrics import mean_squared_error as mse, r2_score as r2\n",
        "import seaborn as sns\n",
        "from keras.layers import Dense, Dropout\n",
        "import numpy as np\n",
        "import keras\n",
        "from keras.models import Sequential\n",
        "from keras.layers import Dense, Dropout\n",
        "from keras.utils.vis_utils import plot_model\n",
        "from keras.models import model_from_json\n",
        "from sklearn.datasets import load_wine\n",
        "from sklearn.model_selection import train_test_split\n",
        "from sklearn.metrics import accuracy_score"
      ],
      "metadata": {
        "id": "0w4D9QkWxt3R"
      },
      "execution_count": 144,
      "outputs": []
    },
    {
      "cell_type": "code",
      "source": [
        "data_wine = load_wine()"
      ],
      "metadata": {
        "id": "yXhssEenSe8S"
      },
      "execution_count": 145,
      "outputs": []
    },
    {
      "cell_type": "code",
      "source": [
        "data = data_wine['data']\n",
        "target = data_wine['target']\n",
        "target_names = data_wine['target_names'] \n",
        "hold = np.argwhere(target!=2).T[0]\n",
        "data = data[hold]\n",
        "target = target[hold]\n",
        "target_names = target_names[0:1]\n"
      ],
      "metadata": {
        "id": "Tde1XQJCUHVd"
      },
      "execution_count": 146,
      "outputs": []
    },
    {
      "cell_type": "code",
      "source": [
        "list(data_wine.target_names)"
      ],
      "metadata": {
        "id": "DTyfGtPIRjbP",
        "colab": {
          "base_uri": "https://localhost:8080/"
        },
        "outputId": "19182682-0388-4198-f005-f477344ddbd0"
      },
      "execution_count": 147,
      "outputs": [
        {
          "output_type": "execute_result",
          "data": {
            "text/plain": [
              "['class_0', 'class_1', 'class_2']"
            ]
          },
          "metadata": {},
          "execution_count": 147
        }
      ]
    },
    {
      "cell_type": "code",
      "source": [
        "data_wine.feature_names"
      ],
      "metadata": {
        "id": "tvnxIsLpRQGC",
        "colab": {
          "base_uri": "https://localhost:8080/"
        },
        "outputId": "45f20f98-889d-4ab3-bb55-9e4b1a0a6698"
      },
      "execution_count": 148,
      "outputs": [
        {
          "output_type": "execute_result",
          "data": {
            "text/plain": [
              "['alcohol',\n",
              " 'malic_acid',\n",
              " 'ash',\n",
              " 'alcalinity_of_ash',\n",
              " 'magnesium',\n",
              " 'total_phenols',\n",
              " 'flavanoids',\n",
              " 'nonflavanoid_phenols',\n",
              " 'proanthocyanins',\n",
              " 'color_intensity',\n",
              " 'hue',\n",
              " 'od280/od315_of_diluted_wines',\n",
              " 'proline']"
            ]
          },
          "metadata": {},
          "execution_count": 148
        }
      ]
    },
    {
      "cell_type": "code",
      "source": [
        "data_wine.data.shape, data_wine.target.shape"
      ],
      "metadata": {
        "id": "F6E3WMc2Rl0y",
        "colab": {
          "base_uri": "https://localhost:8080/"
        },
        "outputId": "6ccf80e9-1ee4-45d1-8573-5e5f04e36581"
      },
      "execution_count": 149,
      "outputs": [
        {
          "output_type": "execute_result",
          "data": {
            "text/plain": [
              "((178, 13), (178,))"
            ]
          },
          "metadata": {},
          "execution_count": 149
        }
      ]
    },
    {
      "cell_type": "code",
      "source": [
        "X_train, X_test, y_train, y_test = train_test_split(data, target, test_size=0.33)"
      ],
      "metadata": {
        "id": "YZqtD7GFRsnQ"
      },
      "execution_count": 150,
      "outputs": []
    },
    {
      "cell_type": "code",
      "source": [
        "X_train.shape, X_test.shape, y_train.shape, y_test.shape"
      ],
      "metadata": {
        "id": "ZI_B1C6FSYFu",
        "colab": {
          "base_uri": "https://localhost:8080/"
        },
        "outputId": "9300a157-d5e1-46f3-d737-007cb14cda87"
      },
      "execution_count": 151,
      "outputs": [
        {
          "output_type": "execute_result",
          "data": {
            "text/plain": [
              "((87, 13), (43, 13), (87,), (43,))"
            ]
          },
          "metadata": {},
          "execution_count": 151
        }
      ]
    },
    {
      "cell_type": "code",
      "source": [
        "number_of_layers = 5\n",
        "dropout_percentage = 0.25\n",
        "\n",
        "model = Sequential()\n",
        "model.add(Dense(units = 30, \n",
        "                   activation = 'relu', \n",
        "                   kernel_initializer = 'random_uniform', \n",
        "                   input_dim = (X_train.shape[1])))\n",
        "\n",
        "for i in range(number_of_layers-1):\n",
        "    model.add(Dense(units = 30, \n",
        "                       activation = 'relu', \n",
        "                       kernel_initializer = 'random_uniform',\n",
        "                       input_dim = 30))\n",
        " \n",
        "    model.add(Dropout(dropout_percentage))\n",
        "\n",
        "model.add(Dense(units = 1, \n",
        "                   activation = 'sigmoid'))\n",
        "model.compile(optimizer = 'adam', loss = 'binary_crossentropy', metrics = ['binary_accuracy'])"
      ],
      "metadata": {
        "id": "GpbqZgYeOJbB"
      },
      "execution_count": 152,
      "outputs": []
    },
    {
      "cell_type": "code",
      "source": [
        "model.summary() "
      ],
      "metadata": {
        "colab": {
          "base_uri": "https://localhost:8080/"
        },
        "id": "9RCjzKgCOvkq",
        "outputId": "5f160391-5565-426f-8ff8-71380d93dde9"
      },
      "execution_count": 153,
      "outputs": [
        {
          "output_type": "stream",
          "name": "stdout",
          "text": [
            "Model: \"sequential_22\"\n",
            "_________________________________________________________________\n",
            " Layer (type)                Output Shape              Param #   \n",
            "=================================================================\n",
            " dense_90 (Dense)            (None, 30)                420       \n",
            "                                                                 \n",
            " dense_91 (Dense)            (None, 30)                930       \n",
            "                                                                 \n",
            " dropout_47 (Dropout)        (None, 30)                0         \n",
            "                                                                 \n",
            " dense_92 (Dense)            (None, 30)                930       \n",
            "                                                                 \n",
            " dropout_48 (Dropout)        (None, 30)                0         \n",
            "                                                                 \n",
            " dense_93 (Dense)            (None, 30)                930       \n",
            "                                                                 \n",
            " dropout_49 (Dropout)        (None, 30)                0         \n",
            "                                                                 \n",
            " dense_94 (Dense)            (None, 30)                930       \n",
            "                                                                 \n",
            " dropout_50 (Dropout)        (None, 30)                0         \n",
            "                                                                 \n",
            " dense_95 (Dense)            (None, 1)                 31        \n",
            "                                                                 \n",
            "=================================================================\n",
            "Total params: 4,171\n",
            "Trainable params: 4,171\n",
            "Non-trainable params: 0\n",
            "_________________________________________________________________\n"
          ]
        }
      ]
    },
    {
      "cell_type": "code",
      "source": [
        "hist1=model.fit(X_train, y_train, epochs=150, batch_size = 20)\n"
      ],
      "metadata": {
        "colab": {
          "base_uri": "https://localhost:8080/"
        },
        "id": "2TogOxjkx-iZ",
        "outputId": "9a8c9020-ae53-4803-a08e-af347733cf23"
      },
      "execution_count": 154,
      "outputs": [
        {
          "output_type": "stream",
          "name": "stdout",
          "text": [
            "Epoch 1/150\n",
            "5/5 [==============================] - 1s 5ms/step - loss: 0.6932 - binary_accuracy: 0.3908\n",
            "Epoch 2/150\n",
            "5/5 [==============================] - 0s 5ms/step - loss: 0.6910 - binary_accuracy: 0.5172\n",
            "Epoch 3/150\n",
            "5/5 [==============================] - 0s 4ms/step - loss: 0.6882 - binary_accuracy: 0.6207\n",
            "Epoch 4/150\n",
            "5/5 [==============================] - 0s 4ms/step - loss: 0.6846 - binary_accuracy: 0.5977\n",
            "Epoch 5/150\n",
            "5/5 [==============================] - 0s 4ms/step - loss: 0.6705 - binary_accuracy: 0.4828\n",
            "Epoch 6/150\n",
            "5/5 [==============================] - 0s 4ms/step - loss: 0.6626 - binary_accuracy: 0.4483\n",
            "Epoch 7/150\n",
            "5/5 [==============================] - 0s 4ms/step - loss: 0.6391 - binary_accuracy: 0.4483\n",
            "Epoch 8/150\n",
            "5/5 [==============================] - 0s 4ms/step - loss: 0.6354 - binary_accuracy: 0.4713\n",
            "Epoch 9/150\n",
            "5/5 [==============================] - 0s 4ms/step - loss: 0.6298 - binary_accuracy: 0.4483\n",
            "Epoch 10/150\n",
            "5/5 [==============================] - 0s 4ms/step - loss: 0.6081 - binary_accuracy: 0.5172\n",
            "Epoch 11/150\n",
            "5/5 [==============================] - 0s 4ms/step - loss: 0.5952 - binary_accuracy: 0.6092\n",
            "Epoch 12/150\n",
            "5/5 [==============================] - 0s 4ms/step - loss: 0.5569 - binary_accuracy: 0.7356\n",
            "Epoch 13/150\n",
            "5/5 [==============================] - 0s 7ms/step - loss: 0.5323 - binary_accuracy: 0.8276\n",
            "Epoch 14/150\n",
            "5/5 [==============================] - 0s 4ms/step - loss: 0.4916 - binary_accuracy: 0.8161\n",
            "Epoch 15/150\n",
            "5/5 [==============================] - 0s 5ms/step - loss: 0.4602 - binary_accuracy: 0.8966\n",
            "Epoch 16/150\n",
            "5/5 [==============================] - 0s 5ms/step - loss: 0.4576 - binary_accuracy: 0.9080\n",
            "Epoch 17/150\n",
            "5/5 [==============================] - 0s 4ms/step - loss: 0.4479 - binary_accuracy: 0.9080\n",
            "Epoch 18/150\n",
            "5/5 [==============================] - 0s 4ms/step - loss: 0.4234 - binary_accuracy: 0.8966\n",
            "Epoch 19/150\n",
            "5/5 [==============================] - 0s 4ms/step - loss: 0.4044 - binary_accuracy: 0.8851\n",
            "Epoch 20/150\n",
            "5/5 [==============================] - 0s 4ms/step - loss: 0.3813 - binary_accuracy: 0.9425\n",
            "Epoch 21/150\n",
            "5/5 [==============================] - 0s 4ms/step - loss: 0.3621 - binary_accuracy: 0.8966\n",
            "Epoch 22/150\n",
            "5/5 [==============================] - 0s 4ms/step - loss: 0.3360 - binary_accuracy: 0.9195\n",
            "Epoch 23/150\n",
            "5/5 [==============================] - 0s 4ms/step - loss: 0.2861 - binary_accuracy: 0.9425\n",
            "Epoch 24/150\n",
            "5/5 [==============================] - 0s 4ms/step - loss: 0.3158 - binary_accuracy: 0.8966\n",
            "Epoch 25/150\n",
            "5/5 [==============================] - 0s 4ms/step - loss: 0.2621 - binary_accuracy: 0.9195\n",
            "Epoch 26/150\n",
            "5/5 [==============================] - 0s 4ms/step - loss: 0.3568 - binary_accuracy: 0.8851\n",
            "Epoch 27/150\n",
            "5/5 [==============================] - 0s 4ms/step - loss: 0.2593 - binary_accuracy: 0.9080\n",
            "Epoch 28/150\n",
            "5/5 [==============================] - 0s 4ms/step - loss: 0.3331 - binary_accuracy: 0.8851\n",
            "Epoch 29/150\n",
            "5/5 [==============================] - 0s 5ms/step - loss: 0.2745 - binary_accuracy: 0.9080\n",
            "Epoch 30/150\n",
            "5/5 [==============================] - 0s 4ms/step - loss: 0.2885 - binary_accuracy: 0.8736\n",
            "Epoch 31/150\n",
            "5/5 [==============================] - 0s 5ms/step - loss: 0.2439 - binary_accuracy: 0.9080\n",
            "Epoch 32/150\n",
            "5/5 [==============================] - 0s 5ms/step - loss: 0.2184 - binary_accuracy: 0.9310\n",
            "Epoch 33/150\n",
            "5/5 [==============================] - 0s 5ms/step - loss: 0.1986 - binary_accuracy: 0.9195\n",
            "Epoch 34/150\n",
            "5/5 [==============================] - 0s 5ms/step - loss: 0.1883 - binary_accuracy: 0.9310\n",
            "Epoch 35/150\n",
            "5/5 [==============================] - 0s 4ms/step - loss: 0.2820 - binary_accuracy: 0.9195\n",
            "Epoch 36/150\n",
            "5/5 [==============================] - 0s 4ms/step - loss: 0.2124 - binary_accuracy: 0.9310\n",
            "Epoch 37/150\n",
            "5/5 [==============================] - 0s 4ms/step - loss: 0.2035 - binary_accuracy: 0.9080\n",
            "Epoch 38/150\n",
            "5/5 [==============================] - 0s 4ms/step - loss: 0.2134 - binary_accuracy: 0.9310\n",
            "Epoch 39/150\n",
            "5/5 [==============================] - 0s 4ms/step - loss: 0.2141 - binary_accuracy: 0.9425\n",
            "Epoch 40/150\n",
            "5/5 [==============================] - 0s 4ms/step - loss: 0.1604 - binary_accuracy: 0.9310\n",
            "Epoch 41/150\n",
            "5/5 [==============================] - 0s 4ms/step - loss: 0.2355 - binary_accuracy: 0.8966\n",
            "Epoch 42/150\n",
            "5/5 [==============================] - 0s 4ms/step - loss: 0.2241 - binary_accuracy: 0.9195\n",
            "Epoch 43/150\n",
            "5/5 [==============================] - 0s 4ms/step - loss: 0.2484 - binary_accuracy: 0.8736\n",
            "Epoch 44/150\n",
            "5/5 [==============================] - 0s 4ms/step - loss: 0.1775 - binary_accuracy: 0.9310\n",
            "Epoch 45/150\n",
            "5/5 [==============================] - 0s 4ms/step - loss: 0.2189 - binary_accuracy: 0.9310\n",
            "Epoch 46/150\n",
            "5/5 [==============================] - 0s 4ms/step - loss: 0.1946 - binary_accuracy: 0.9310\n",
            "Epoch 47/150\n",
            "5/5 [==============================] - 0s 6ms/step - loss: 0.2545 - binary_accuracy: 0.8621\n",
            "Epoch 48/150\n",
            "5/5 [==============================] - 0s 4ms/step - loss: 0.1688 - binary_accuracy: 0.9080\n",
            "Epoch 49/150\n",
            "5/5 [==============================] - 0s 4ms/step - loss: 0.1671 - binary_accuracy: 0.9195\n",
            "Epoch 50/150\n",
            "5/5 [==============================] - 0s 5ms/step - loss: 0.1563 - binary_accuracy: 0.9425\n",
            "Epoch 51/150\n",
            "5/5 [==============================] - 0s 4ms/step - loss: 0.1732 - binary_accuracy: 0.9425\n",
            "Epoch 52/150\n",
            "5/5 [==============================] - 0s 4ms/step - loss: 0.1651 - binary_accuracy: 0.9195\n",
            "Epoch 53/150\n",
            "5/5 [==============================] - 0s 4ms/step - loss: 0.1429 - binary_accuracy: 0.9540\n",
            "Epoch 54/150\n",
            "5/5 [==============================] - 0s 4ms/step - loss: 0.1501 - binary_accuracy: 0.9540\n",
            "Epoch 55/150\n",
            "5/5 [==============================] - 0s 5ms/step - loss: 0.1287 - binary_accuracy: 0.9310\n",
            "Epoch 56/150\n",
            "5/5 [==============================] - 0s 4ms/step - loss: 0.1569 - binary_accuracy: 0.9310\n",
            "Epoch 57/150\n",
            "5/5 [==============================] - 0s 4ms/step - loss: 0.1753 - binary_accuracy: 0.9080\n",
            "Epoch 58/150\n",
            "5/5 [==============================] - 0s 4ms/step - loss: 0.1507 - binary_accuracy: 0.9425\n",
            "Epoch 59/150\n",
            "5/5 [==============================] - 0s 4ms/step - loss: 0.1599 - binary_accuracy: 0.8966\n",
            "Epoch 60/150\n",
            "5/5 [==============================] - 0s 4ms/step - loss: 0.1406 - binary_accuracy: 0.9195\n",
            "Epoch 61/150\n",
            "5/5 [==============================] - 0s 4ms/step - loss: 0.1281 - binary_accuracy: 0.9425\n",
            "Epoch 62/150\n",
            "5/5 [==============================] - 0s 4ms/step - loss: 0.1443 - binary_accuracy: 0.9310\n",
            "Epoch 63/150\n",
            "5/5 [==============================] - 0s 4ms/step - loss: 0.1362 - binary_accuracy: 0.9425\n",
            "Epoch 64/150\n",
            "5/5 [==============================] - 0s 4ms/step - loss: 0.1592 - binary_accuracy: 0.9195\n",
            "Epoch 65/150\n",
            "5/5 [==============================] - 0s 4ms/step - loss: 0.1385 - binary_accuracy: 0.9425\n",
            "Epoch 66/150\n",
            "5/5 [==============================] - 0s 4ms/step - loss: 0.1426 - binary_accuracy: 0.9080\n",
            "Epoch 67/150\n",
            "5/5 [==============================] - 0s 4ms/step - loss: 0.1325 - binary_accuracy: 0.9195\n",
            "Epoch 68/150\n",
            "5/5 [==============================] - 0s 5ms/step - loss: 0.1468 - binary_accuracy: 0.9195\n",
            "Epoch 69/150\n",
            "5/5 [==============================] - 0s 4ms/step - loss: 0.1270 - binary_accuracy: 0.9540\n",
            "Epoch 70/150\n",
            "5/5 [==============================] - 0s 4ms/step - loss: 0.1518 - binary_accuracy: 0.9310\n",
            "Epoch 71/150\n",
            "5/5 [==============================] - 0s 4ms/step - loss: 0.1647 - binary_accuracy: 0.9310\n",
            "Epoch 72/150\n",
            "5/5 [==============================] - 0s 5ms/step - loss: 0.1288 - binary_accuracy: 0.9425\n",
            "Epoch 73/150\n",
            "5/5 [==============================] - 0s 5ms/step - loss: 0.1124 - binary_accuracy: 0.9425\n",
            "Epoch 74/150\n",
            "5/5 [==============================] - 0s 4ms/step - loss: 0.1333 - binary_accuracy: 0.9195\n",
            "Epoch 75/150\n",
            "5/5 [==============================] - 0s 4ms/step - loss: 0.1447 - binary_accuracy: 0.9080\n",
            "Epoch 76/150\n",
            "5/5 [==============================] - 0s 4ms/step - loss: 0.1404 - binary_accuracy: 0.9310\n",
            "Epoch 77/150\n",
            "5/5 [==============================] - 0s 4ms/step - loss: 0.1195 - binary_accuracy: 0.9425\n",
            "Epoch 78/150\n",
            "5/5 [==============================] - 0s 4ms/step - loss: 0.1874 - binary_accuracy: 0.9195\n",
            "Epoch 79/150\n",
            "5/5 [==============================] - 0s 4ms/step - loss: 0.1840 - binary_accuracy: 0.9080\n",
            "Epoch 80/150\n",
            "5/5 [==============================] - 0s 4ms/step - loss: 0.1323 - binary_accuracy: 0.9540\n",
            "Epoch 81/150\n",
            "5/5 [==============================] - 0s 4ms/step - loss: 0.1352 - binary_accuracy: 0.9195\n",
            "Epoch 82/150\n",
            "5/5 [==============================] - 0s 7ms/step - loss: 0.1544 - binary_accuracy: 0.9425\n",
            "Epoch 83/150\n",
            "5/5 [==============================] - 0s 4ms/step - loss: 0.1553 - binary_accuracy: 0.9195\n",
            "Epoch 84/150\n",
            "5/5 [==============================] - 0s 4ms/step - loss: 0.1384 - binary_accuracy: 0.9310\n",
            "Epoch 85/150\n",
            "5/5 [==============================] - 0s 4ms/step - loss: 0.1338 - binary_accuracy: 0.9195\n",
            "Epoch 86/150\n",
            "5/5 [==============================] - 0s 4ms/step - loss: 0.1234 - binary_accuracy: 0.9425\n",
            "Epoch 87/150\n",
            "5/5 [==============================] - 0s 4ms/step - loss: 0.1215 - binary_accuracy: 0.9310\n",
            "Epoch 88/150\n",
            "5/5 [==============================] - 0s 4ms/step - loss: 0.1151 - binary_accuracy: 0.9425\n",
            "Epoch 89/150\n",
            "5/5 [==============================] - 0s 4ms/step - loss: 0.1120 - binary_accuracy: 0.9425\n",
            "Epoch 90/150\n",
            "5/5 [==============================] - 0s 4ms/step - loss: 0.1304 - binary_accuracy: 0.9310\n",
            "Epoch 91/150\n",
            "5/5 [==============================] - 0s 4ms/step - loss: 0.1502 - binary_accuracy: 0.9310\n",
            "Epoch 92/150\n",
            "5/5 [==============================] - 0s 5ms/step - loss: 0.1516 - binary_accuracy: 0.9080\n",
            "Epoch 93/150\n",
            "5/5 [==============================] - 0s 4ms/step - loss: 0.1236 - binary_accuracy: 0.9425\n",
            "Epoch 94/150\n",
            "5/5 [==============================] - 0s 4ms/step - loss: 0.1153 - binary_accuracy: 0.9425\n",
            "Epoch 95/150\n",
            "5/5 [==============================] - 0s 4ms/step - loss: 0.1292 - binary_accuracy: 0.9310\n",
            "Epoch 96/150\n",
            "5/5 [==============================] - 0s 5ms/step - loss: 0.1725 - binary_accuracy: 0.9195\n",
            "Epoch 97/150\n",
            "5/5 [==============================] - 0s 4ms/step - loss: 0.1772 - binary_accuracy: 0.9310\n",
            "Epoch 98/150\n",
            "5/5 [==============================] - 0s 4ms/step - loss: 0.1334 - binary_accuracy: 0.9540\n",
            "Epoch 99/150\n",
            "5/5 [==============================] - 0s 4ms/step - loss: 0.1890 - binary_accuracy: 0.9080\n",
            "Epoch 100/150\n",
            "5/5 [==============================] - 0s 4ms/step - loss: 0.1653 - binary_accuracy: 0.9310\n",
            "Epoch 101/150\n",
            "5/5 [==============================] - 0s 4ms/step - loss: 0.1446 - binary_accuracy: 0.9540\n",
            "Epoch 102/150\n",
            "5/5 [==============================] - 0s 4ms/step - loss: 0.1528 - binary_accuracy: 0.9310\n",
            "Epoch 103/150\n",
            "5/5 [==============================] - 0s 4ms/step - loss: 0.1819 - binary_accuracy: 0.9310\n",
            "Epoch 104/150\n",
            "5/5 [==============================] - 0s 4ms/step - loss: 0.1431 - binary_accuracy: 0.9310\n",
            "Epoch 105/150\n",
            "5/5 [==============================] - 0s 4ms/step - loss: 0.1497 - binary_accuracy: 0.9310\n",
            "Epoch 106/150\n",
            "5/5 [==============================] - 0s 4ms/step - loss: 0.1907 - binary_accuracy: 0.9195\n",
            "Epoch 107/150\n",
            "5/5 [==============================] - 0s 4ms/step - loss: 0.1596 - binary_accuracy: 0.9195\n",
            "Epoch 108/150\n",
            "5/5 [==============================] - 0s 4ms/step - loss: 0.1635 - binary_accuracy: 0.9195\n",
            "Epoch 109/150\n",
            "5/5 [==============================] - 0s 5ms/step - loss: 0.1445 - binary_accuracy: 0.9425\n",
            "Epoch 110/150\n",
            "5/5 [==============================] - 0s 4ms/step - loss: 0.1398 - binary_accuracy: 0.9195\n",
            "Epoch 111/150\n",
            "5/5 [==============================] - 0s 4ms/step - loss: 0.1333 - binary_accuracy: 0.9540\n",
            "Epoch 112/150\n",
            "5/5 [==============================] - 0s 4ms/step - loss: 0.1345 - binary_accuracy: 0.9425\n",
            "Epoch 113/150\n",
            "5/5 [==============================] - 0s 4ms/step - loss: 0.1222 - binary_accuracy: 0.9310\n",
            "Epoch 114/150\n",
            "5/5 [==============================] - 0s 5ms/step - loss: 0.1226 - binary_accuracy: 0.9425\n",
            "Epoch 115/150\n",
            "5/5 [==============================] - 0s 5ms/step - loss: 0.1214 - binary_accuracy: 0.9310\n",
            "Epoch 116/150\n",
            "5/5 [==============================] - 0s 6ms/step - loss: 0.1230 - binary_accuracy: 0.9310\n",
            "Epoch 117/150\n",
            "5/5 [==============================] - 0s 4ms/step - loss: 0.1286 - binary_accuracy: 0.9540\n",
            "Epoch 118/150\n",
            "5/5 [==============================] - 0s 4ms/step - loss: 0.1191 - binary_accuracy: 0.9310\n",
            "Epoch 119/150\n",
            "5/5 [==============================] - 0s 4ms/step - loss: 0.1333 - binary_accuracy: 0.9310\n",
            "Epoch 120/150\n",
            "5/5 [==============================] - 0s 4ms/step - loss: 0.1343 - binary_accuracy: 0.9425\n",
            "Epoch 121/150\n",
            "5/5 [==============================] - 0s 4ms/step - loss: 0.1305 - binary_accuracy: 0.9310\n",
            "Epoch 122/150\n",
            "5/5 [==============================] - 0s 4ms/step - loss: 0.1471 - binary_accuracy: 0.9310\n",
            "Epoch 123/150\n",
            "5/5 [==============================] - 0s 4ms/step - loss: 0.1188 - binary_accuracy: 0.9310\n",
            "Epoch 124/150\n",
            "5/5 [==============================] - 0s 4ms/step - loss: 0.1250 - binary_accuracy: 0.9540\n",
            "Epoch 125/150\n",
            "5/5 [==============================] - 0s 4ms/step - loss: 0.1278 - binary_accuracy: 0.9425\n",
            "Epoch 126/150\n",
            "5/5 [==============================] - 0s 4ms/step - loss: 0.1164 - binary_accuracy: 0.9425\n",
            "Epoch 127/150\n",
            "5/5 [==============================] - 0s 4ms/step - loss: 0.1330 - binary_accuracy: 0.9195\n",
            "Epoch 128/150\n",
            "5/5 [==============================] - 0s 4ms/step - loss: 0.1437 - binary_accuracy: 0.9080\n",
            "Epoch 129/150\n",
            "5/5 [==============================] - 0s 4ms/step - loss: 0.1222 - binary_accuracy: 0.9540\n",
            "Epoch 130/150\n",
            "5/5 [==============================] - 0s 4ms/step - loss: 0.1116 - binary_accuracy: 0.9425\n",
            "Epoch 131/150\n",
            "5/5 [==============================] - 0s 4ms/step - loss: 0.1222 - binary_accuracy: 0.9310\n",
            "Epoch 132/150\n",
            "5/5 [==============================] - 0s 5ms/step - loss: 0.1267 - binary_accuracy: 0.9310\n",
            "Epoch 133/150\n",
            "5/5 [==============================] - 0s 4ms/step - loss: 0.1467 - binary_accuracy: 0.9310\n",
            "Epoch 134/150\n",
            "5/5 [==============================] - 0s 5ms/step - loss: 0.1225 - binary_accuracy: 0.9425\n",
            "Epoch 135/150\n",
            "5/5 [==============================] - 0s 5ms/step - loss: 0.1129 - binary_accuracy: 0.9310\n",
            "Epoch 136/150\n",
            "5/5 [==============================] - 0s 5ms/step - loss: 0.1054 - binary_accuracy: 0.9655\n",
            "Epoch 137/150\n",
            "5/5 [==============================] - 0s 5ms/step - loss: 0.1262 - binary_accuracy: 0.9425\n",
            "Epoch 138/150\n",
            "5/5 [==============================] - 0s 5ms/step - loss: 0.1704 - binary_accuracy: 0.9425\n",
            "Epoch 139/150\n",
            "5/5 [==============================] - 0s 5ms/step - loss: 0.1449 - binary_accuracy: 0.9310\n",
            "Epoch 140/150\n",
            "5/5 [==============================] - 0s 5ms/step - loss: 0.1436 - binary_accuracy: 0.9540\n",
            "Epoch 141/150\n",
            "5/5 [==============================] - 0s 4ms/step - loss: 0.1435 - binary_accuracy: 0.9425\n",
            "Epoch 142/150\n",
            "5/5 [==============================] - 0s 5ms/step - loss: 0.1214 - binary_accuracy: 0.9540\n",
            "Epoch 143/150\n",
            "5/5 [==============================] - 0s 4ms/step - loss: 0.1300 - binary_accuracy: 0.9195\n",
            "Epoch 144/150\n",
            "5/5 [==============================] - 0s 4ms/step - loss: 0.1030 - binary_accuracy: 0.9540\n",
            "Epoch 145/150\n",
            "5/5 [==============================] - 0s 5ms/step - loss: 0.1155 - binary_accuracy: 0.9425\n",
            "Epoch 146/150\n",
            "5/5 [==============================] - 0s 4ms/step - loss: 0.1171 - binary_accuracy: 0.9310\n",
            "Epoch 147/150\n",
            "5/5 [==============================] - 0s 4ms/step - loss: 0.1472 - binary_accuracy: 0.9080\n",
            "Epoch 148/150\n",
            "5/5 [==============================] - 0s 6ms/step - loss: 0.1138 - binary_accuracy: 0.9425\n",
            "Epoch 149/150\n",
            "5/5 [==============================] - 0s 4ms/step - loss: 0.1127 - binary_accuracy: 0.9425\n",
            "Epoch 150/150\n",
            "5/5 [==============================] - 0s 5ms/step - loss: 0.1291 - binary_accuracy: 0.9310\n"
          ]
        }
      ]
    },
    {
      "cell_type": "code",
      "source": [
        "predictions = model.predict(X_test)\n",
        "predictions = (predictions > 0.5)\n",
        "accuracy = accuracy_score(y_test, predictions)\n",
        "print(\"Accuracy =\", accuracy)"
      ],
      "metadata": {
        "colab": {
          "base_uri": "https://localhost:8080/"
        },
        "id": "q3dLLkqzyoFP",
        "outputId": "890e9807-87ff-434b-c2cd-38b1a5283cd6"
      },
      "execution_count": 155,
      "outputs": [
        {
          "output_type": "stream",
          "name": "stdout",
          "text": [
            "Accuracy = 0.9069767441860465\n"
          ]
        }
      ]
    },
    {
      "cell_type": "code",
      "source": [
        "plot_model(model, to_file='model.png', show_shapes=True, \n",
        "           show_layer_names=True)"
      ],
      "metadata": {
        "colab": {
          "base_uri": "https://localhost:8080/",
          "height": 1000
        },
        "id": "SUcN7Jo-xtTs",
        "outputId": "48d82d8b-5015-40e5-8197-a30383fbed4d"
      },
      "execution_count": 156,
      "outputs": [
        {
          "output_type": "execute_result",
          "data": {
            "text/plain": [
              "<IPython.core.display.Image object>"
            ],
            "image/png": "[encoded data removed]"
          },
          "metadata": {},
          "execution_count": 156
        }
      ]
    }
  ]
}