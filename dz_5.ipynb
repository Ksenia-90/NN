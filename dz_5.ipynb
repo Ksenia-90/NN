{
  "nbformat": 4,
  "nbformat_minor": 0,
  "metadata": {
    "colab": {
      "name": "dz_5.ipynb",
      "provenance": [],
      "collapsed_sections": [],
      "authorship_tag": "ABX9TyP36yIJQ066huro2UVnoI/v",
      "include_colab_link": true
    },
    "kernelspec": {
      "name": "python3",
      "display_name": "Python 3"
    },
    "language_info": {
      "name": "python"
    }
  },
  "cells": [
    {
      "cell_type": "markdown",
      "metadata": {
        "id": "view-in-github",
        "colab_type": "text"
      },
      "source": [
        "<a href=\"https://colab.research.google.com/github/Ksenia-90/NN/blob/lesson_5/dz_5.ipynb\" target=\"_parent\"><img src=\"https://colab.research.google.com/assets/colab-badge.svg\" alt=\"Open In Colab\"/></a>"
      ]
    },
    {
      "cell_type": "markdown",
      "source": [
        "##Рекуррентные нейронные сети"
      ],
      "metadata": {
        "id": "hJqzYOoBIFqM"
      }
    },
    {
      "cell_type": "code",
      "source": [
        "from google.colab import drive\n",
        "drive.mount('/content/drive')"
      ],
      "metadata": {
        "colab": {
          "base_uri": "https://localhost:8080/"
        },
        "id": "Z5OhMIsLIgB5",
        "outputId": "33d10b30-065c-428a-fa95-8d708fe46c41"
      },
      "execution_count": 58,
      "outputs": [
        {
          "output_type": "stream",
          "name": "stdout",
          "text": [
            "Drive already mounted at /content/drive; to attempt to forcibly remount, call drive.mount(\"/content/drive\", force_remount=True).\n"
          ]
        }
      ]
    },
    {
      "cell_type": "code",
      "source": [
        "%matplotlib inline\n",
        "from __future__ import print_function\n",
        "\n",
        "import pandas as pd\n",
        "import matplotlib.pyplot as plt\n",
        "from tensorflow.keras import utils\n",
        "import numpy as np\n",
        "import tensorflow.keras as keras\n",
        "from tensorflow.keras.optimizers import Adam\n",
        "from tensorflow.keras.models import Sequential, Model\n",
        "from tensorflow.keras.layers import concatenate, Input, Dense, Dropout, BatchNormalization, Flatten, Conv1D, Conv2D, LSTM\n",
        "from tensorflow.keras.callbacks import EarlyStopping\n",
        "\n",
        "from google.colab import files\n",
        "from sklearn.preprocessing import StandardScaler, MinMaxScaler\n"
      ],
      "metadata": {
        "id": "0xHzZ6kvI-0_"
      },
      "execution_count": 59,
      "outputs": []
    },
    {
      "cell_type": "code",
      "source": [
        "data = pd.read_csv('/content/drive/My Drive/Colab Notebooks/airline-passengers.csv', parse_dates=['Month'], index_col=0)\n"
      ],
      "metadata": {
        "id": "D-DY7Pt0IzVE"
      },
      "execution_count": 60,
      "outputs": []
    },
    {
      "cell_type": "code",
      "source": [
        "data.head(5)"
      ],
      "metadata": {
        "colab": {
          "base_uri": "https://localhost:8080/",
          "height": 235
        },
        "id": "OD3_wjlgJX8o",
        "outputId": "f9234883-34d4-4972-f1b0-6373da4b3dbb"
      },
      "execution_count": 61,
      "outputs": [
        {
          "output_type": "execute_result",
          "data": {
            "text/plain": [
              "            Passengers\n",
              "Month                 \n",
              "1949-01-01         112\n",
              "1949-02-01         118\n",
              "1949-03-01         132\n",
              "1949-04-01         129\n",
              "1949-05-01         121"
            ],
            "text/html": [
              "\n",
              "  <div id=\"df-eb22f913-3bb4-4888-8ea5-7cd382d59899\">\n",
              "    <div class=\"colab-df-container\">\n",
              "      <div>\n",
              "<style scoped>\n",
              "    .dataframe tbody tr th:only-of-type {\n",
              "        vertical-align: middle;\n",
              "    }\n",
              "\n",
              "    .dataframe tbody tr th {\n",
              "        vertical-align: top;\n",
              "    }\n",
              "\n",
              "    .dataframe thead th {\n",
              "        text-align: right;\n",
              "    }\n",
              "</style>\n",
              "<table border=\"1\" class=\"dataframe\">\n",
              "  <thead>\n",
              "    <tr style=\"text-align: right;\">\n",
              "      <th></th>\n",
              "      <th>Passengers</th>\n",
              "    </tr>\n",
              "    <tr>\n",
              "      <th>Month</th>\n",
              "      <th></th>\n",
              "    </tr>\n",
              "  </thead>\n",
              "  <tbody>\n",
              "    <tr>\n",
              "      <th>1949-01-01</th>\n",
              "      <td>112</td>\n",
              "    </tr>\n",
              "    <tr>\n",
              "      <th>1949-02-01</th>\n",
              "      <td>118</td>\n",
              "    </tr>\n",
              "    <tr>\n",
              "      <th>1949-03-01</th>\n",
              "      <td>132</td>\n",
              "    </tr>\n",
              "    <tr>\n",
              "      <th>1949-04-01</th>\n",
              "      <td>129</td>\n",
              "    </tr>\n",
              "    <tr>\n",
              "      <th>1949-05-01</th>\n",
              "      <td>121</td>\n",
              "    </tr>\n",
              "  </tbody>\n",
              "</table>\n",
              "</div>\n",
              "      <button class=\"colab-df-convert\" onclick=\"convertToInteractive('df-eb22f913-3bb4-4888-8ea5-7cd382d59899')\"\n",
              "              title=\"Convert this dataframe to an interactive table.\"\n",
              "              style=\"display:none;\">\n",
              "        \n",
              "  <svg xmlns=\"http://www.w3.org/2000/svg\" height=\"24px\"viewBox=\"0 0 24 24\"\n",
              "       width=\"24px\">\n",
              "    <path d=\"M0 0h24v24H0V0z\" fill=\"none\"/>\n",
              "    <path d=\"M18.56 5.44l.94 2.06.94-2.06 2.06-.94-2.06-.94-.94-2.06-.94 2.06-2.06.94zm-11 1L8.5 8.5l.94-2.06 2.06-.94-2.06-.94L8.5 2.5l-.94 2.06-2.06.94zm10 10l.94 2.06.94-2.06 2.06-.94-2.06-.94-.94-2.06-.94 2.06-2.06.94z\"/><path d=\"M17.41 7.96l-1.37-1.37c-.4-.4-.92-.59-1.43-.59-.52 0-1.04.2-1.43.59L10.3 9.45l-7.72 7.72c-.78.78-.78 2.05 0 2.83L4 21.41c.39.39.9.59 1.41.59.51 0 1.02-.2 1.41-.59l7.78-7.78 2.81-2.81c.8-.78.8-2.07 0-2.86zM5.41 20L4 18.59l7.72-7.72 1.47 1.35L5.41 20z\"/>\n",
              "  </svg>\n",
              "      </button>\n",
              "      \n",
              "  <style>\n",
              "    .colab-df-container {\n",
              "      display:flex;\n",
              "      flex-wrap:wrap;\n",
              "      gap: 12px;\n",
              "    }\n",
              "\n",
              "    .colab-df-convert {\n",
              "      background-color: #E8F0FE;\n",
              "      border: none;\n",
              "      border-radius: 50%;\n",
              "      cursor: pointer;\n",
              "      display: none;\n",
              "      fill: #1967D2;\n",
              "      height: 32px;\n",
              "      padding: 0 0 0 0;\n",
              "      width: 32px;\n",
              "    }\n",
              "\n",
              "    .colab-df-convert:hover {\n",
              "      background-color: #E2EBFA;\n",
              "      box-shadow: 0px 1px 2px rgba(60, 64, 67, 0.3), 0px 1px 3px 1px rgba(60, 64, 67, 0.15);\n",
              "      fill: #174EA6;\n",
              "    }\n",
              "\n",
              "    [theme=dark] .colab-df-convert {\n",
              "      background-color: #3B4455;\n",
              "      fill: #D2E3FC;\n",
              "    }\n",
              "\n",
              "    [theme=dark] .colab-df-convert:hover {\n",
              "      background-color: #434B5C;\n",
              "      box-shadow: 0px 1px 3px 1px rgba(0, 0, 0, 0.15);\n",
              "      filter: drop-shadow(0px 1px 2px rgba(0, 0, 0, 0.3));\n",
              "      fill: #FFFFFF;\n",
              "    }\n",
              "  </style>\n",
              "\n",
              "      <script>\n",
              "        const buttonEl =\n",
              "          document.querySelector('#df-eb22f913-3bb4-4888-8ea5-7cd382d59899 button.colab-df-convert');\n",
              "        buttonEl.style.display =\n",
              "          google.colab.kernel.accessAllowed ? 'block' : 'none';\n",
              "\n",
              "        async function convertToInteractive(key) {\n",
              "          const element = document.querySelector('#df-eb22f913-3bb4-4888-8ea5-7cd382d59899');\n",
              "          const dataTable =\n",
              "            await google.colab.kernel.invokeFunction('convertToInteractive',\n",
              "                                                     [key], {});\n",
              "          if (!dataTable) return;\n",
              "\n",
              "          const docLinkHtml = 'Like what you see? Visit the ' +\n",
              "            '<a target=\"_blank\" href=https://colab.research.google.com/notebooks/data_table.ipynb>data table notebook</a>'\n",
              "            + ' to learn more about interactive tables.';\n",
              "          element.innerHTML = '';\n",
              "          dataTable['output_type'] = 'display_data';\n",
              "          await google.colab.output.renderOutput(dataTable, element);\n",
              "          const docLink = document.createElement('div');\n",
              "          docLink.innerHTML = docLinkHtml;\n",
              "          element.appendChild(docLink);\n",
              "        }\n",
              "      </script>\n",
              "    </div>\n",
              "  </div>\n",
              "  "
            ]
          },
          "metadata": {},
          "execution_count": 61
        }
      ]
    },
    {
      "cell_type": "code",
      "source": [
        "data['year'] = data.index.year\n",
        "data['month'] = data.index.month"
      ],
      "metadata": {
        "id": "h6muimO4LGfQ"
      },
      "execution_count": 62,
      "outputs": []
    },
    {
      "cell_type": "code",
      "source": [
        "def norm(data, train_split):\n",
        "    data_mean = data[:train_split].mean(axis=0)\n",
        "    data_std = data[:train_split].std(axis=0)\n",
        "    return (data - data_mean) / data_std"
      ],
      "metadata": {
        "id": "DxbvbslQMcxo"
      },
      "execution_count": 63,
      "outputs": []
    },
    {
      "cell_type": "code",
      "source": [
        "train_split = 80\n",
        "data_norm = norm(data.values, train_split)\n",
        "data = pd.DataFrame(data_norm)"
      ],
      "metadata": {
        "id": "8FFJf8uEMBkk"
      },
      "execution_count": 64,
      "outputs": []
    },
    {
      "cell_type": "code",
      "source": [
        "lIndexes = [0,1,2]\n",
        "bias = 10\n",
        "train_data = data.iloc[0 : train_split - 1,lIndexes]\n",
        "test_data = data.iloc[train_split+bias:,lIndexes]"
      ],
      "metadata": {
        "id": "P5tGGbmCNo4v"
      },
      "execution_count": 65,
      "outputs": []
    },
    {
      "cell_type": "code",
      "source": [
        "train_data.head()"
      ],
      "metadata": {
        "colab": {
          "base_uri": "https://localhost:8080/",
          "height": 204
        },
        "id": "ZMxf7sAON9jZ",
        "outputId": "18ea9ffd-0e70-4e04-aac2-bbdc9f4cddb3"
      },
      "execution_count": 66,
      "outputs": [
        {
          "output_type": "execute_result",
          "data": {
            "text/plain": [
              "          0         1         2\n",
              "0 -1.434472 -1.476169 -1.555463\n",
              "1 -1.328802 -1.476169 -1.261980\n",
              "2 -1.082238 -1.476169 -0.968496\n",
              "3 -1.135073 -1.476169 -0.675012\n",
              "4 -1.275967 -1.476169 -0.381529"
            ],
            "text/html": [
              "\n",
              "  <div id=\"df-4e376168-a986-4648-b278-caf2cde947ae\">\n",
              "    <div class=\"colab-df-container\">\n",
              "      <div>\n",
              "<style scoped>\n",
              "    .dataframe tbody tr th:only-of-type {\n",
              "        vertical-align: middle;\n",
              "    }\n",
              "\n",
              "    .dataframe tbody tr th {\n",
              "        vertical-align: top;\n",
              "    }\n",
              "\n",
              "    .dataframe thead th {\n",
              "        text-align: right;\n",
              "    }\n",
              "</style>\n",
              "<table border=\"1\" class=\"dataframe\">\n",
              "  <thead>\n",
              "    <tr style=\"text-align: right;\">\n",
              "      <th></th>\n",
              "      <th>0</th>\n",
              "      <th>1</th>\n",
              "      <th>2</th>\n",
              "    </tr>\n",
              "  </thead>\n",
              "  <tbody>\n",
              "    <tr>\n",
              "      <th>0</th>\n",
              "      <td>-1.434472</td>\n",
              "      <td>-1.476169</td>\n",
              "      <td>-1.555463</td>\n",
              "    </tr>\n",
              "    <tr>\n",
              "      <th>1</th>\n",
              "      <td>-1.328802</td>\n",
              "      <td>-1.476169</td>\n",
              "      <td>-1.261980</td>\n",
              "    </tr>\n",
              "    <tr>\n",
              "      <th>2</th>\n",
              "      <td>-1.082238</td>\n",
              "      <td>-1.476169</td>\n",
              "      <td>-0.968496</td>\n",
              "    </tr>\n",
              "    <tr>\n",
              "      <th>3</th>\n",
              "      <td>-1.135073</td>\n",
              "      <td>-1.476169</td>\n",
              "      <td>-0.675012</td>\n",
              "    </tr>\n",
              "    <tr>\n",
              "      <th>4</th>\n",
              "      <td>-1.275967</td>\n",
              "      <td>-1.476169</td>\n",
              "      <td>-0.381529</td>\n",
              "    </tr>\n",
              "  </tbody>\n",
              "</table>\n",
              "</div>\n",
              "      <button class=\"colab-df-convert\" onclick=\"convertToInteractive('df-4e376168-a986-4648-b278-caf2cde947ae')\"\n",
              "              title=\"Convert this dataframe to an interactive table.\"\n",
              "              style=\"display:none;\">\n",
              "        \n",
              "  <svg xmlns=\"http://www.w3.org/2000/svg\" height=\"24px\"viewBox=\"0 0 24 24\"\n",
              "       width=\"24px\">\n",
              "    <path d=\"M0 0h24v24H0V0z\" fill=\"none\"/>\n",
              "    <path d=\"M18.56 5.44l.94 2.06.94-2.06 2.06-.94-2.06-.94-.94-2.06-.94 2.06-2.06.94zm-11 1L8.5 8.5l.94-2.06 2.06-.94-2.06-.94L8.5 2.5l-.94 2.06-2.06.94zm10 10l.94 2.06.94-2.06 2.06-.94-2.06-.94-.94-2.06-.94 2.06-2.06.94z\"/><path d=\"M17.41 7.96l-1.37-1.37c-.4-.4-.92-.59-1.43-.59-.52 0-1.04.2-1.43.59L10.3 9.45l-7.72 7.72c-.78.78-.78 2.05 0 2.83L4 21.41c.39.39.9.59 1.41.59.51 0 1.02-.2 1.41-.59l7.78-7.78 2.81-2.81c.8-.78.8-2.07 0-2.86zM5.41 20L4 18.59l7.72-7.72 1.47 1.35L5.41 20z\"/>\n",
              "  </svg>\n",
              "      </button>\n",
              "      \n",
              "  <style>\n",
              "    .colab-df-container {\n",
              "      display:flex;\n",
              "      flex-wrap:wrap;\n",
              "      gap: 12px;\n",
              "    }\n",
              "\n",
              "    .colab-df-convert {\n",
              "      background-color: #E8F0FE;\n",
              "      border: none;\n",
              "      border-radius: 50%;\n",
              "      cursor: pointer;\n",
              "      display: none;\n",
              "      fill: #1967D2;\n",
              "      height: 32px;\n",
              "      padding: 0 0 0 0;\n",
              "      width: 32px;\n",
              "    }\n",
              "\n",
              "    .colab-df-convert:hover {\n",
              "      background-color: #E2EBFA;\n",
              "      box-shadow: 0px 1px 2px rgba(60, 64, 67, 0.3), 0px 1px 3px 1px rgba(60, 64, 67, 0.15);\n",
              "      fill: #174EA6;\n",
              "    }\n",
              "\n",
              "    [theme=dark] .colab-df-convert {\n",
              "      background-color: #3B4455;\n",
              "      fill: #D2E3FC;\n",
              "    }\n",
              "\n",
              "    [theme=dark] .colab-df-convert:hover {\n",
              "      background-color: #434B5C;\n",
              "      box-shadow: 0px 1px 3px 1px rgba(0, 0, 0, 0.15);\n",
              "      filter: drop-shadow(0px 1px 2px rgba(0, 0, 0, 0.3));\n",
              "      fill: #FFFFFF;\n",
              "    }\n",
              "  </style>\n",
              "\n",
              "      <script>\n",
              "        const buttonEl =\n",
              "          document.querySelector('#df-4e376168-a986-4648-b278-caf2cde947ae button.colab-df-convert');\n",
              "        buttonEl.style.display =\n",
              "          google.colab.kernel.accessAllowed ? 'block' : 'none';\n",
              "\n",
              "        async function convertToInteractive(key) {\n",
              "          const element = document.querySelector('#df-4e376168-a986-4648-b278-caf2cde947ae');\n",
              "          const dataTable =\n",
              "            await google.colab.kernel.invokeFunction('convertToInteractive',\n",
              "                                                     [key], {});\n",
              "          if (!dataTable) return;\n",
              "\n",
              "          const docLinkHtml = 'Like what you see? Visit the ' +\n",
              "            '<a target=\"_blank\" href=https://colab.research.google.com/notebooks/data_table.ipynb>data table notebook</a>'\n",
              "            + ' to learn more about interactive tables.';\n",
              "          element.innerHTML = '';\n",
              "          dataTable['output_type'] = 'display_data';\n",
              "          await google.colab.output.renderOutput(dataTable, element);\n",
              "          const docLink = document.createElement('div');\n",
              "          docLink.innerHTML = docLinkHtml;\n",
              "          element.appendChild(docLink);\n",
              "        }\n",
              "      </script>\n",
              "    </div>\n",
              "  </div>\n",
              "  "
            ]
          },
          "metadata": {},
          "execution_count": 66
        }
      ]
    },
    {
      "cell_type": "code",
      "source": [
        "step = 1\n",
        "maxlen = 3\n",
        "h = 1\n",
        "learning_rate = 0.001\n",
        "batch_size = 25"
      ],
      "metadata": {
        "id": "L2w2WvUFOT7W"
      },
      "execution_count": 67,
      "outputs": []
    },
    {
      "cell_type": "code",
      "source": [
        "x_train = train_data[[train_data.columns[i] for i in range(3)]].values\n",
        "y_train = data.iloc[maxlen:(maxlen + train_split-1),0].values\n",
        "x_test = test_data.iloc[:(len(test_data)) - maxlen+1][[test_data.columns[i] for i in range(3)]].values\n",
        "y_test = data.iloc[(len(train_data)+bias+maxlen):,0].values"
      ],
      "metadata": {
        "id": "DmsdDF_KO-Ch"
      },
      "execution_count": 68,
      "outputs": []
    },
    {
      "cell_type": "code",
      "source": [
        "dataset_train = keras.preprocessing.timeseries_dataset_from_array(\n",
        "    x_train,\n",
        "    y_train,\n",
        "    sequence_length=maxlen,\n",
        "    sampling_rate=1,\n",
        "    batch_size=batch_size,\n",
        ")\n",
        "dataset_test = keras.preprocessing.timeseries_dataset_from_array(\n",
        "    x_test,\n",
        "    y_test,\n",
        "    sequence_length=maxlen,\n",
        "    sampling_rate=1,\n",
        "    batch_size=batch_size,\n",
        ")"
      ],
      "metadata": {
        "id": "A5i8PUbEQddj"
      },
      "execution_count": 69,
      "outputs": []
    },
    {
      "cell_type": "code",
      "source": [
        "for batch in dataset_train.take(2):\n",
        "    inputs, targets = batch\n",
        "\n",
        "print(\"Input shape:\", inputs.numpy().shape)\n",
        "print(\"Target shape:\", targets.numpy().shape)"
      ],
      "metadata": {
        "colab": {
          "base_uri": "https://localhost:8080/"
        },
        "id": "BJGWUzYKRXK3",
        "outputId": "55688ab3-bbda-4791-80af-f3113e7c3f2a"
      },
      "execution_count": 70,
      "outputs": [
        {
          "output_type": "stream",
          "name": "stdout",
          "text": [
            "Input shape: (25, 3, 3)\n",
            "Target shape: (25,)\n"
          ]
        }
      ]
    },
    {
      "cell_type": "code",
      "source": [
        "epochs=300\n",
        "\n",
        "callback = EarlyStopping(monitor='val_mae', patience=5)\n",
        "\n",
        "model = Sequential()\n",
        "\n",
        "model.add(LSTM(128, input_shape = (inputs.shape[1], inputs.shape[2]), return_sequences=\"True\"))\n",
        "model.add(LSTM(128, return_sequences=\"True\"))\n",
        "model.add(Conv1D(256, 3, activation='relu', padding='same'))\n",
        "model.add(Conv1D(256, 1, activation=\"linear\"))\n",
        "model.add(Flatten())\n",
        "model.add(Dense(3, activation=\"linear\"))\n",
        "model.add(Dense(1, activation=\"linear\"))\n",
        "\n",
        "model.compile(loss=\"mse\", optimizer=\"sgd\", metrics=['mse'])\n",
        "\n",
        "history = model.fit(\n",
        "    dataset_train,\n",
        "    epochs=epochs,\n",
        "    validation_data=dataset_test)"
      ],
      "metadata": {
        "colab": {
          "base_uri": "https://localhost:8080/"
        },
        "id": "_auijEgxRfOc",
        "outputId": "b0b3f055-8792-4ae2-c5d8-ecd7c9d9518e"
      },
      "execution_count": 74,
      "outputs": [
        {
          "output_type": "stream",
          "name": "stdout",
          "text": [
            "Epoch 1/300\n",
            "4/4 [==============================] - 4s 308ms/step - loss: 1.0008 - mse: 1.0008 - val_loss: 14.0418 - val_mse: 14.0418\n",
            "Epoch 2/300\n",
            "4/4 [==============================] - 0s 41ms/step - loss: 0.9928 - mse: 0.9928 - val_loss: 12.7730 - val_mse: 12.7730\n",
            "Epoch 3/300\n",
            "4/4 [==============================] - 0s 44ms/step - loss: 1.0425 - mse: 1.0425 - val_loss: 11.8050 - val_mse: 11.8050\n",
            "Epoch 4/300\n",
            "4/4 [==============================] - 0s 45ms/step - loss: 1.1051 - mse: 1.1051 - val_loss: 11.0373 - val_mse: 11.0373\n",
            "Epoch 5/300\n",
            "4/4 [==============================] - 0s 42ms/step - loss: 1.1658 - mse: 1.1658 - val_loss: 10.4203 - val_mse: 10.4203\n",
            "Epoch 6/300\n",
            "4/4 [==============================] - 0s 43ms/step - loss: 1.2114 - mse: 1.2114 - val_loss: 9.8966 - val_mse: 9.8966\n",
            "Epoch 7/300\n",
            "4/4 [==============================] - 0s 45ms/step - loss: 1.2407 - mse: 1.2407 - val_loss: 9.4345 - val_mse: 9.4345\n",
            "Epoch 8/300\n",
            "4/4 [==============================] - 0s 44ms/step - loss: 1.2530 - mse: 1.2530 - val_loss: 8.9987 - val_mse: 8.9987\n",
            "Epoch 9/300\n",
            "4/4 [==============================] - 0s 42ms/step - loss: 1.2486 - mse: 1.2486 - val_loss: 8.5508 - val_mse: 8.5508\n",
            "Epoch 10/300\n",
            "4/4 [==============================] - 0s 43ms/step - loss: 1.2309 - mse: 1.2309 - val_loss: 8.0830 - val_mse: 8.0830\n",
            "Epoch 11/300\n",
            "4/4 [==============================] - 0s 46ms/step - loss: 1.1966 - mse: 1.1966 - val_loss: 7.5628 - val_mse: 7.5628\n",
            "Epoch 12/300\n",
            "4/4 [==============================] - 0s 45ms/step - loss: 1.1525 - mse: 1.1525 - val_loss: 6.9799 - val_mse: 6.9799\n",
            "Epoch 13/300\n",
            "4/4 [==============================] - 0s 43ms/step - loss: 1.0959 - mse: 1.0959 - val_loss: 6.3255 - val_mse: 6.3255\n",
            "Epoch 14/300\n",
            "4/4 [==============================] - 0s 44ms/step - loss: 1.0227 - mse: 1.0227 - val_loss: 5.5966 - val_mse: 5.5966\n",
            "Epoch 15/300\n",
            "4/4 [==============================] - 0s 43ms/step - loss: 0.9362 - mse: 0.9362 - val_loss: 4.8078 - val_mse: 4.8078\n",
            "Epoch 16/300\n",
            "4/4 [==============================] - 0s 48ms/step - loss: 0.8324 - mse: 0.8324 - val_loss: 4.0044 - val_mse: 4.0044\n",
            "Epoch 17/300\n",
            "4/4 [==============================] - 0s 42ms/step - loss: 0.7120 - mse: 0.7120 - val_loss: 3.2210 - val_mse: 3.2210\n",
            "Epoch 18/300\n",
            "4/4 [==============================] - 0s 50ms/step - loss: 0.5854 - mse: 0.5854 - val_loss: 2.5363 - val_mse: 2.5363\n",
            "Epoch 19/300\n",
            "4/4 [==============================] - 0s 44ms/step - loss: 0.4714 - mse: 0.4714 - val_loss: 2.0257 - val_mse: 2.0257\n",
            "Epoch 20/300\n",
            "4/4 [==============================] - 0s 46ms/step - loss: 0.3781 - mse: 0.3781 - val_loss: 1.6766 - val_mse: 1.6766\n",
            "Epoch 21/300\n",
            "4/4 [==============================] - 0s 44ms/step - loss: 0.3294 - mse: 0.3294 - val_loss: 1.4802 - val_mse: 1.4802\n",
            "Epoch 22/300\n",
            "4/4 [==============================] - 0s 44ms/step - loss: 0.3125 - mse: 0.3125 - val_loss: 1.3769 - val_mse: 1.3769\n",
            "Epoch 23/300\n",
            "4/4 [==============================] - 0s 43ms/step - loss: 0.3175 - mse: 0.3175 - val_loss: 1.3255 - val_mse: 1.3255\n",
            "Epoch 24/300\n",
            "4/4 [==============================] - 0s 45ms/step - loss: 0.3276 - mse: 0.3276 - val_loss: 1.2975 - val_mse: 1.2975\n",
            "Epoch 25/300\n",
            "4/4 [==============================] - 0s 44ms/step - loss: 0.3364 - mse: 0.3364 - val_loss: 1.2798 - val_mse: 1.2798\n",
            "Epoch 26/300\n",
            "4/4 [==============================] - 0s 43ms/step - loss: 0.3387 - mse: 0.3387 - val_loss: 1.2682 - val_mse: 1.2682\n",
            "Epoch 27/300\n",
            "4/4 [==============================] - 0s 42ms/step - loss: 0.3413 - mse: 0.3413 - val_loss: 1.2583 - val_mse: 1.2583\n",
            "Epoch 28/300\n",
            "4/4 [==============================] - 0s 42ms/step - loss: 0.3390 - mse: 0.3390 - val_loss: 1.2513 - val_mse: 1.2513\n",
            "Epoch 29/300\n",
            "4/4 [==============================] - 0s 47ms/step - loss: 0.3381 - mse: 0.3381 - val_loss: 1.2452 - val_mse: 1.2452\n",
            "Epoch 30/300\n",
            "4/4 [==============================] - 0s 41ms/step - loss: 0.3373 - mse: 0.3373 - val_loss: 1.2381 - val_mse: 1.2381\n",
            "Epoch 31/300\n",
            "4/4 [==============================] - 0s 42ms/step - loss: 0.3327 - mse: 0.3327 - val_loss: 1.2343 - val_mse: 1.2343\n",
            "Epoch 32/300\n",
            "4/4 [==============================] - 0s 44ms/step - loss: 0.3315 - mse: 0.3315 - val_loss: 1.2298 - val_mse: 1.2298\n",
            "Epoch 33/300\n",
            "4/4 [==============================] - 0s 47ms/step - loss: 0.3290 - mse: 0.3290 - val_loss: 1.2245 - val_mse: 1.2245\n",
            "Epoch 34/300\n",
            "4/4 [==============================] - 0s 45ms/step - loss: 0.3247 - mse: 0.3247 - val_loss: 1.2243 - val_mse: 1.2243\n",
            "Epoch 35/300\n",
            "4/4 [==============================] - 0s 47ms/step - loss: 0.3246 - mse: 0.3246 - val_loss: 1.2207 - val_mse: 1.2207\n",
            "Epoch 36/300\n",
            "4/4 [==============================] - 0s 43ms/step - loss: 0.3214 - mse: 0.3214 - val_loss: 1.2197 - val_mse: 1.2197\n",
            "Epoch 37/300\n",
            "4/4 [==============================] - 0s 44ms/step - loss: 0.3198 - mse: 0.3198 - val_loss: 1.2176 - val_mse: 1.2176\n",
            "Epoch 38/300\n",
            "4/4 [==============================] - 0s 46ms/step - loss: 0.3171 - mse: 0.3171 - val_loss: 1.2170 - val_mse: 1.2170\n",
            "Epoch 39/300\n",
            "4/4 [==============================] - 0s 42ms/step - loss: 0.3153 - mse: 0.3153 - val_loss: 1.2166 - val_mse: 1.2166\n",
            "Epoch 40/300\n",
            "4/4 [==============================] - 0s 46ms/step - loss: 0.3133 - mse: 0.3133 - val_loss: 1.2138 - val_mse: 1.2138\n",
            "Epoch 41/300\n",
            "4/4 [==============================] - 0s 48ms/step - loss: 0.3093 - mse: 0.3093 - val_loss: 1.2178 - val_mse: 1.2178\n",
            "Epoch 42/300\n",
            "4/4 [==============================] - 0s 44ms/step - loss: 0.3091 - mse: 0.3091 - val_loss: 1.2183 - val_mse: 1.2183\n",
            "Epoch 43/300\n",
            "4/4 [==============================] - 0s 50ms/step - loss: 0.3071 - mse: 0.3071 - val_loss: 1.2193 - val_mse: 1.2193\n",
            "Epoch 44/300\n",
            "4/4 [==============================] - 0s 45ms/step - loss: 0.3051 - mse: 0.3051 - val_loss: 1.2200 - val_mse: 1.2200\n",
            "Epoch 45/300\n",
            "4/4 [==============================] - 0s 43ms/step - loss: 0.3031 - mse: 0.3031 - val_loss: 1.2221 - val_mse: 1.2221\n",
            "Epoch 46/300\n",
            "4/4 [==============================] - 0s 44ms/step - loss: 0.3016 - mse: 0.3016 - val_loss: 1.2252 - val_mse: 1.2252\n",
            "Epoch 47/300\n",
            "4/4 [==============================] - 0s 43ms/step - loss: 0.3003 - mse: 0.3003 - val_loss: 1.2278 - val_mse: 1.2278\n",
            "Epoch 48/300\n",
            "4/4 [==============================] - 0s 43ms/step - loss: 0.2987 - mse: 0.2987 - val_loss: 1.2295 - val_mse: 1.2295\n",
            "Epoch 49/300\n",
            "4/4 [==============================] - 0s 48ms/step - loss: 0.2969 - mse: 0.2969 - val_loss: 1.2314 - val_mse: 1.2314\n",
            "Epoch 50/300\n",
            "4/4 [==============================] - 0s 47ms/step - loss: 0.2950 - mse: 0.2950 - val_loss: 1.2360 - val_mse: 1.2360\n",
            "Epoch 51/300\n",
            "4/4 [==============================] - 0s 44ms/step - loss: 0.2941 - mse: 0.2941 - val_loss: 1.2366 - val_mse: 1.2366\n",
            "Epoch 52/300\n",
            "4/4 [==============================] - 0s 42ms/step - loss: 0.2918 - mse: 0.2918 - val_loss: 1.2413 - val_mse: 1.2413\n",
            "Epoch 53/300\n",
            "4/4 [==============================] - 0s 44ms/step - loss: 0.2905 - mse: 0.2905 - val_loss: 1.2459 - val_mse: 1.2459\n",
            "Epoch 54/300\n",
            "4/4 [==============================] - 0s 43ms/step - loss: 0.2896 - mse: 0.2896 - val_loss: 1.2484 - val_mse: 1.2484\n",
            "Epoch 55/300\n",
            "4/4 [==============================] - 0s 48ms/step - loss: 0.2876 - mse: 0.2876 - val_loss: 1.2514 - val_mse: 1.2514\n",
            "Epoch 56/300\n",
            "4/4 [==============================] - 0s 45ms/step - loss: 0.2859 - mse: 0.2859 - val_loss: 1.2552 - val_mse: 1.2552\n",
            "Epoch 57/300\n",
            "4/4 [==============================] - 0s 45ms/step - loss: 0.2840 - mse: 0.2840 - val_loss: 1.2655 - val_mse: 1.2655\n",
            "Epoch 58/300\n",
            "4/4 [==============================] - 0s 45ms/step - loss: 0.2844 - mse: 0.2844 - val_loss: 1.2623 - val_mse: 1.2623\n",
            "Epoch 59/300\n",
            "4/4 [==============================] - 0s 43ms/step - loss: 0.2806 - mse: 0.2806 - val_loss: 1.2726 - val_mse: 1.2726\n",
            "Epoch 60/300\n",
            "4/4 [==============================] - 0s 52ms/step - loss: 0.2804 - mse: 0.2804 - val_loss: 1.2755 - val_mse: 1.2755\n",
            "Epoch 61/300\n",
            "4/4 [==============================] - 0s 48ms/step - loss: 0.2782 - mse: 0.2782 - val_loss: 1.2803 - val_mse: 1.2803\n",
            "Epoch 62/300\n",
            "4/4 [==============================] - 0s 45ms/step - loss: 0.2766 - mse: 0.2766 - val_loss: 1.2845 - val_mse: 1.2845\n",
            "Epoch 63/300\n",
            "4/4 [==============================] - 0s 46ms/step - loss: 0.2745 - mse: 0.2745 - val_loss: 1.2970 - val_mse: 1.2970\n",
            "Epoch 64/300\n",
            "4/4 [==============================] - 0s 43ms/step - loss: 0.2747 - mse: 0.2747 - val_loss: 1.2916 - val_mse: 1.2916\n",
            "Epoch 65/300\n",
            "4/4 [==============================] - 0s 44ms/step - loss: 0.2703 - mse: 0.2703 - val_loss: 1.3112 - val_mse: 1.3112\n",
            "Epoch 66/300\n",
            "4/4 [==============================] - 0s 46ms/step - loss: 0.2716 - mse: 0.2716 - val_loss: 1.3083 - val_mse: 1.3083\n",
            "Epoch 67/300\n",
            "4/4 [==============================] - 0s 46ms/step - loss: 0.2680 - mse: 0.2680 - val_loss: 1.3183 - val_mse: 1.3183\n",
            "Epoch 68/300\n",
            "4/4 [==============================] - 0s 42ms/step - loss: 0.2671 - mse: 0.2671 - val_loss: 1.3231 - val_mse: 1.3231\n",
            "Epoch 69/300\n",
            "4/4 [==============================] - 0s 46ms/step - loss: 0.2650 - mse: 0.2650 - val_loss: 1.3368 - val_mse: 1.3368\n",
            "Epoch 70/300\n",
            "4/4 [==============================] - 0s 51ms/step - loss: 0.2651 - mse: 0.2651 - val_loss: 1.3311 - val_mse: 1.3311\n",
            "Epoch 71/300\n",
            "4/4 [==============================] - 0s 45ms/step - loss: 0.2605 - mse: 0.2605 - val_loss: 1.3529 - val_mse: 1.3529\n",
            "Epoch 72/300\n",
            "4/4 [==============================] - 0s 45ms/step - loss: 0.2618 - mse: 0.2618 - val_loss: 1.3558 - val_mse: 1.3558\n",
            "Epoch 73/300\n",
            "4/4 [==============================] - 0s 45ms/step - loss: 0.2595 - mse: 0.2595 - val_loss: 1.3605 - val_mse: 1.3605\n",
            "Epoch 74/300\n",
            "4/4 [==============================] - 0s 43ms/step - loss: 0.2574 - mse: 0.2574 - val_loss: 1.3702 - val_mse: 1.3702\n",
            "Epoch 75/300\n",
            "4/4 [==============================] - 0s 42ms/step - loss: 0.2562 - mse: 0.2562 - val_loss: 1.3794 - val_mse: 1.3794\n",
            "Epoch 76/300\n",
            "4/4 [==============================] - 0s 45ms/step - loss: 0.2549 - mse: 0.2549 - val_loss: 1.3865 - val_mse: 1.3865\n",
            "Epoch 77/300\n",
            "4/4 [==============================] - 0s 47ms/step - loss: 0.2531 - mse: 0.2531 - val_loss: 1.3990 - val_mse: 1.3990\n",
            "Epoch 78/300\n",
            "4/4 [==============================] - 0s 46ms/step - loss: 0.2526 - mse: 0.2526 - val_loss: 1.3990 - val_mse: 1.3990\n",
            "Epoch 79/300\n",
            "4/4 [==============================] - 0s 43ms/step - loss: 0.2495 - mse: 0.2495 - val_loss: 1.4176 - val_mse: 1.4176\n",
            "Epoch 80/300\n",
            "4/4 [==============================] - 0s 43ms/step - loss: 0.2499 - mse: 0.2499 - val_loss: 1.4174 - val_mse: 1.4174\n",
            "Epoch 81/300\n",
            "4/4 [==============================] - 0s 44ms/step - loss: 0.2469 - mse: 0.2469 - val_loss: 1.4353 - val_mse: 1.4353\n",
            "Epoch 82/300\n",
            "4/4 [==============================] - 0s 44ms/step - loss: 0.2471 - mse: 0.2471 - val_loss: 1.4366 - val_mse: 1.4366\n",
            "Epoch 83/300\n",
            "4/4 [==============================] - 0s 47ms/step - loss: 0.2448 - mse: 0.2448 - val_loss: 1.4518 - val_mse: 1.4518\n",
            "Epoch 84/300\n",
            "4/4 [==============================] - 0s 47ms/step - loss: 0.2445 - mse: 0.2445 - val_loss: 1.4566 - val_mse: 1.4566\n",
            "Epoch 85/300\n",
            "4/4 [==============================] - 0s 44ms/step - loss: 0.2428 - mse: 0.2428 - val_loss: 1.4670 - val_mse: 1.4670\n",
            "Epoch 86/300\n",
            "4/4 [==============================] - 0s 44ms/step - loss: 0.2419 - mse: 0.2419 - val_loss: 1.4734 - val_mse: 1.4734\n",
            "Epoch 87/300\n",
            "4/4 [==============================] - 0s 44ms/step - loss: 0.2402 - mse: 0.2402 - val_loss: 1.4830 - val_mse: 1.4830\n",
            "Epoch 88/300\n",
            "4/4 [==============================] - 0s 42ms/step - loss: 0.2390 - mse: 0.2390 - val_loss: 1.4955 - val_mse: 1.4955\n",
            "Epoch 89/300\n",
            "4/4 [==============================] - 0s 44ms/step - loss: 0.2382 - mse: 0.2382 - val_loss: 1.5030 - val_mse: 1.5030\n",
            "Epoch 90/300\n",
            "4/4 [==============================] - 0s 45ms/step - loss: 0.2369 - mse: 0.2369 - val_loss: 1.5117 - val_mse: 1.5117\n",
            "Epoch 91/300\n",
            "4/4 [==============================] - 0s 42ms/step - loss: 0.2355 - mse: 0.2355 - val_loss: 1.5284 - val_mse: 1.5284\n",
            "Epoch 92/300\n",
            "4/4 [==============================] - 0s 43ms/step - loss: 0.2355 - mse: 0.2355 - val_loss: 1.5281 - val_mse: 1.5281\n",
            "Epoch 93/300\n",
            "4/4 [==============================] - 0s 45ms/step - loss: 0.2332 - mse: 0.2332 - val_loss: 1.5484 - val_mse: 1.5484\n",
            "Epoch 94/300\n",
            "4/4 [==============================] - 0s 46ms/step - loss: 0.2335 - mse: 0.2335 - val_loss: 1.5431 - val_mse: 1.5431\n",
            "Epoch 95/300\n",
            "4/4 [==============================] - 0s 44ms/step - loss: 0.2306 - mse: 0.2306 - val_loss: 1.5710 - val_mse: 1.5710\n",
            "Epoch 96/300\n",
            "4/4 [==============================] - 0s 44ms/step - loss: 0.2318 - mse: 0.2318 - val_loss: 1.5660 - val_mse: 1.5660\n",
            "Epoch 97/300\n",
            "4/4 [==============================] - 0s 44ms/step - loss: 0.2290 - mse: 0.2290 - val_loss: 1.5880 - val_mse: 1.5880\n",
            "Epoch 98/300\n",
            "4/4 [==============================] - 0s 51ms/step - loss: 0.2296 - mse: 0.2296 - val_loss: 1.5881 - val_mse: 1.5881\n",
            "Epoch 99/300\n",
            "4/4 [==============================] - 0s 45ms/step - loss: 0.2274 - mse: 0.2274 - val_loss: 1.6009 - val_mse: 1.6009\n",
            "Epoch 100/300\n",
            "4/4 [==============================] - 0s 48ms/step - loss: 0.2267 - mse: 0.2267 - val_loss: 1.6111 - val_mse: 1.6111\n",
            "Epoch 101/300\n",
            "4/4 [==============================] - 0s 50ms/step - loss: 0.2258 - mse: 0.2258 - val_loss: 1.6248 - val_mse: 1.6248\n",
            "Epoch 102/300\n",
            "4/4 [==============================] - 0s 43ms/step - loss: 0.2252 - mse: 0.2252 - val_loss: 1.6300 - val_mse: 1.6300\n",
            "Epoch 103/300\n",
            "4/4 [==============================] - 0s 43ms/step - loss: 0.2239 - mse: 0.2239 - val_loss: 1.6498 - val_mse: 1.6498\n",
            "Epoch 104/300\n",
            "4/4 [==============================] - 0s 44ms/step - loss: 0.2242 - mse: 0.2242 - val_loss: 1.6423 - val_mse: 1.6423\n",
            "Epoch 105/300\n",
            "4/4 [==============================] - 0s 48ms/step - loss: 0.2213 - mse: 0.2213 - val_loss: 1.6698 - val_mse: 1.6698\n",
            "Epoch 106/300\n",
            "4/4 [==============================] - 0s 44ms/step - loss: 0.2224 - mse: 0.2224 - val_loss: 1.6671 - val_mse: 1.6671\n",
            "Epoch 107/300\n",
            "4/4 [==============================] - 0s 43ms/step - loss: 0.2202 - mse: 0.2202 - val_loss: 1.6865 - val_mse: 1.6865\n",
            "Epoch 108/300\n",
            "4/4 [==============================] - 0s 45ms/step - loss: 0.2203 - mse: 0.2203 - val_loss: 1.6927 - val_mse: 1.6927\n",
            "Epoch 109/300\n",
            "4/4 [==============================] - 0s 43ms/step - loss: 0.2191 - mse: 0.2191 - val_loss: 1.7059 - val_mse: 1.7059\n",
            "Epoch 110/300\n",
            "4/4 [==============================] - 0s 42ms/step - loss: 0.2186 - mse: 0.2186 - val_loss: 1.7143 - val_mse: 1.7143\n",
            "Epoch 111/300\n",
            "4/4 [==============================] - 0s 42ms/step - loss: 0.2178 - mse: 0.2178 - val_loss: 1.7225 - val_mse: 1.7225\n",
            "Epoch 112/300\n",
            "4/4 [==============================] - 0s 43ms/step - loss: 0.2170 - mse: 0.2170 - val_loss: 1.7345 - val_mse: 1.7345\n",
            "Epoch 113/300\n",
            "4/4 [==============================] - 0s 47ms/step - loss: 0.2163 - mse: 0.2163 - val_loss: 1.7429 - val_mse: 1.7429\n",
            "Epoch 114/300\n",
            "4/4 [==============================] - 0s 45ms/step - loss: 0.2157 - mse: 0.2157 - val_loss: 1.7563 - val_mse: 1.7563\n",
            "Epoch 115/300\n",
            "4/4 [==============================] - 0s 45ms/step - loss: 0.2153 - mse: 0.2153 - val_loss: 1.7605 - val_mse: 1.7605\n",
            "Epoch 116/300\n",
            "4/4 [==============================] - 0s 43ms/step - loss: 0.2143 - mse: 0.2143 - val_loss: 1.7771 - val_mse: 1.7771\n",
            "Epoch 117/300\n",
            "4/4 [==============================] - 0s 44ms/step - loss: 0.2142 - mse: 0.2142 - val_loss: 1.7734 - val_mse: 1.7734\n",
            "Epoch 118/300\n",
            "4/4 [==============================] - 0s 44ms/step - loss: 0.2124 - mse: 0.2124 - val_loss: 1.7969 - val_mse: 1.7969\n",
            "Epoch 119/300\n",
            "4/4 [==============================] - 0s 44ms/step - loss: 0.2131 - mse: 0.2131 - val_loss: 1.7972 - val_mse: 1.7972\n",
            "Epoch 120/300\n",
            "4/4 [==============================] - 0s 44ms/step - loss: 0.2113 - mse: 0.2113 - val_loss: 1.8142 - val_mse: 1.8142\n",
            "Epoch 121/300\n",
            "4/4 [==============================] - 0s 44ms/step - loss: 0.2115 - mse: 0.2115 - val_loss: 1.8219 - val_mse: 1.8219\n",
            "Epoch 122/300\n",
            "4/4 [==============================] - 0s 43ms/step - loss: 0.2108 - mse: 0.2108 - val_loss: 1.8281 - val_mse: 1.8281\n",
            "Epoch 123/300\n",
            "4/4 [==============================] - 0s 48ms/step - loss: 0.2098 - mse: 0.2098 - val_loss: 1.8390 - val_mse: 1.8390\n",
            "Epoch 124/300\n",
            "4/4 [==============================] - 0s 45ms/step - loss: 0.2093 - mse: 0.2093 - val_loss: 1.8430 - val_mse: 1.8430\n",
            "Epoch 125/300\n",
            "4/4 [==============================] - 0s 45ms/step - loss: 0.2081 - mse: 0.2081 - val_loss: 1.8619 - val_mse: 1.8619\n",
            "Epoch 126/300\n",
            "4/4 [==============================] - 0s 44ms/step - loss: 0.2084 - mse: 0.2084 - val_loss: 1.8714 - val_mse: 1.8714\n",
            "Epoch 127/300\n",
            "4/4 [==============================] - 0s 45ms/step - loss: 0.2078 - mse: 0.2078 - val_loss: 1.8763 - val_mse: 1.8763\n",
            "Epoch 128/300\n",
            "4/4 [==============================] - 0s 45ms/step - loss: 0.2068 - mse: 0.2068 - val_loss: 1.9014 - val_mse: 1.9014\n",
            "Epoch 129/300\n",
            "4/4 [==============================] - 0s 43ms/step - loss: 0.2075 - mse: 0.2075 - val_loss: 1.8860 - val_mse: 1.8860\n",
            "Epoch 130/300\n",
            "4/4 [==============================] - 0s 44ms/step - loss: 0.2049 - mse: 0.2049 - val_loss: 1.9235 - val_mse: 1.9235\n",
            "Epoch 131/300\n",
            "4/4 [==============================] - 0s 42ms/step - loss: 0.2065 - mse: 0.2065 - val_loss: 1.9134 - val_mse: 1.9134\n",
            "Epoch 132/300\n",
            "4/4 [==============================] - 0s 43ms/step - loss: 0.2044 - mse: 0.2044 - val_loss: 1.9286 - val_mse: 1.9286\n",
            "Epoch 133/300\n",
            "4/4 [==============================] - 0s 42ms/step - loss: 0.2043 - mse: 0.2043 - val_loss: 1.9447 - val_mse: 1.9447\n",
            "Epoch 134/300\n",
            "4/4 [==============================] - 0s 42ms/step - loss: 0.2041 - mse: 0.2041 - val_loss: 1.9410 - val_mse: 1.9410\n",
            "Epoch 135/300\n",
            "4/4 [==============================] - 0s 45ms/step - loss: 0.2024 - mse: 0.2024 - val_loss: 1.9760 - val_mse: 1.9760\n",
            "Epoch 136/300\n",
            "4/4 [==============================] - 0s 51ms/step - loss: 0.2038 - mse: 0.2038 - val_loss: 1.9630 - val_mse: 1.9630\n",
            "Epoch 137/300\n",
            "4/4 [==============================] - 0s 49ms/step - loss: 0.2015 - mse: 0.2015 - val_loss: 1.9972 - val_mse: 1.9972\n",
            "Epoch 138/300\n",
            "4/4 [==============================] - 0s 43ms/step - loss: 0.2029 - mse: 0.2029 - val_loss: 1.9851 - val_mse: 1.9851\n",
            "Epoch 139/300\n",
            "4/4 [==============================] - 0s 45ms/step - loss: 0.2007 - mse: 0.2007 - val_loss: 2.0044 - val_mse: 2.0044\n",
            "Epoch 140/300\n",
            "4/4 [==============================] - 0s 51ms/step - loss: 0.2007 - mse: 0.2007 - val_loss: 2.0261 - val_mse: 2.0261\n",
            "Epoch 141/300\n",
            "4/4 [==============================] - 0s 44ms/step - loss: 0.2010 - mse: 0.2010 - val_loss: 2.0179 - val_mse: 2.0179\n",
            "Epoch 142/300\n",
            "4/4 [==============================] - 0s 42ms/step - loss: 0.1991 - mse: 0.1991 - val_loss: 2.0505 - val_mse: 2.0505\n",
            "Epoch 143/300\n",
            "4/4 [==============================] - 0s 44ms/step - loss: 0.2002 - mse: 0.2002 - val_loss: 2.0421 - val_mse: 2.0421\n",
            "Epoch 144/300\n",
            "4/4 [==============================] - 0s 45ms/step - loss: 0.1985 - mse: 0.1985 - val_loss: 2.0488 - val_mse: 2.0488\n",
            "Epoch 145/300\n",
            "4/4 [==============================] - 0s 43ms/step - loss: 0.1976 - mse: 0.1976 - val_loss: 2.0853 - val_mse: 2.0853\n",
            "Epoch 146/300\n",
            "4/4 [==============================] - 0s 44ms/step - loss: 0.1989 - mse: 0.1989 - val_loss: 2.0744 - val_mse: 2.0744\n",
            "Epoch 147/300\n",
            "4/4 [==============================] - 0s 47ms/step - loss: 0.1970 - mse: 0.1970 - val_loss: 2.0979 - val_mse: 2.0979\n",
            "Epoch 148/300\n",
            "4/4 [==============================] - 0s 46ms/step - loss: 0.1975 - mse: 0.1975 - val_loss: 2.0988 - val_mse: 2.0988\n",
            "Epoch 149/300\n",
            "4/4 [==============================] - 0s 45ms/step - loss: 0.1965 - mse: 0.1965 - val_loss: 2.1106 - val_mse: 2.1106\n",
            "Epoch 150/300\n",
            "4/4 [==============================] - 0s 43ms/step - loss: 0.1962 - mse: 0.1962 - val_loss: 2.1219 - val_mse: 2.1219\n",
            "Epoch 151/300\n",
            "4/4 [==============================] - 0s 47ms/step - loss: 0.1959 - mse: 0.1959 - val_loss: 2.1351 - val_mse: 2.1351\n",
            "Epoch 152/300\n",
            "4/4 [==============================] - 0s 45ms/step - loss: 0.1957 - mse: 0.1957 - val_loss: 2.1420 - val_mse: 2.1420\n",
            "Epoch 153/300\n",
            "4/4 [==============================] - 0s 46ms/step - loss: 0.1953 - mse: 0.1953 - val_loss: 2.1487 - val_mse: 2.1487\n",
            "Epoch 154/300\n",
            "4/4 [==============================] - 0s 44ms/step - loss: 0.1943 - mse: 0.1943 - val_loss: 2.1647 - val_mse: 2.1647\n",
            "Epoch 155/300\n",
            "4/4 [==============================] - 0s 50ms/step - loss: 0.1945 - mse: 0.1945 - val_loss: 2.1675 - val_mse: 2.1675\n",
            "Epoch 156/300\n",
            "4/4 [==============================] - 0s 43ms/step - loss: 0.1935 - mse: 0.1935 - val_loss: 2.1842 - val_mse: 2.1842\n",
            "Epoch 157/300\n",
            "4/4 [==============================] - 0s 45ms/step - loss: 0.1933 - mse: 0.1933 - val_loss: 2.1939 - val_mse: 2.1939\n",
            "Epoch 158/300\n",
            "4/4 [==============================] - 0s 43ms/step - loss: 0.1930 - mse: 0.1930 - val_loss: 2.2037 - val_mse: 2.2037\n",
            "Epoch 159/300\n",
            "4/4 [==============================] - 0s 46ms/step - loss: 0.1925 - mse: 0.1925 - val_loss: 2.2109 - val_mse: 2.2109\n",
            "Epoch 160/300\n",
            "4/4 [==============================] - 0s 45ms/step - loss: 0.1919 - mse: 0.1919 - val_loss: 2.2388 - val_mse: 2.2388\n",
            "Epoch 161/300\n",
            "4/4 [==============================] - 0s 47ms/step - loss: 0.1926 - mse: 0.1926 - val_loss: 2.2313 - val_mse: 2.2313\n",
            "Epoch 162/300\n",
            "4/4 [==============================] - 0s 45ms/step - loss: 0.1913 - mse: 0.1913 - val_loss: 2.2380 - val_mse: 2.2380\n",
            "Epoch 163/300\n",
            "4/4 [==============================] - 0s 48ms/step - loss: 0.1902 - mse: 0.1902 - val_loss: 2.2647 - val_mse: 2.2647\n",
            "Epoch 164/300\n",
            "4/4 [==============================] - 0s 46ms/step - loss: 0.1908 - mse: 0.1908 - val_loss: 2.2678 - val_mse: 2.2678\n",
            "Epoch 165/300\n",
            "4/4 [==============================] - 0s 45ms/step - loss: 0.1901 - mse: 0.1901 - val_loss: 2.2885 - val_mse: 2.2885\n",
            "Epoch 166/300\n",
            "4/4 [==============================] - 0s 43ms/step - loss: 0.1903 - mse: 0.1903 - val_loss: 2.2880 - val_mse: 2.2880\n",
            "Epoch 167/300\n",
            "4/4 [==============================] - 0s 52ms/step - loss: 0.1893 - mse: 0.1893 - val_loss: 2.2923 - val_mse: 2.2923\n",
            "Epoch 168/300\n",
            "4/4 [==============================] - 0s 42ms/step - loss: 0.1885 - mse: 0.1885 - val_loss: 2.3132 - val_mse: 2.3132\n",
            "Epoch 169/300\n",
            "4/4 [==============================] - 0s 42ms/step - loss: 0.1886 - mse: 0.1886 - val_loss: 2.3356 - val_mse: 2.3356\n",
            "Epoch 170/300\n",
            "4/4 [==============================] - 0s 43ms/step - loss: 0.1891 - mse: 0.1891 - val_loss: 2.3213 - val_mse: 2.3213\n",
            "Epoch 171/300\n",
            "4/4 [==============================] - 0s 43ms/step - loss: 0.1875 - mse: 0.1875 - val_loss: 2.3459 - val_mse: 2.3459\n",
            "Epoch 172/300\n",
            "4/4 [==============================] - 0s 44ms/step - loss: 0.1879 - mse: 0.1879 - val_loss: 2.3535 - val_mse: 2.3535\n",
            "Epoch 173/300\n",
            "4/4 [==============================] - 0s 44ms/step - loss: 0.1873 - mse: 0.1873 - val_loss: 2.3560 - val_mse: 2.3560\n",
            "Epoch 174/300\n",
            "4/4 [==============================] - 0s 44ms/step - loss: 0.1867 - mse: 0.1867 - val_loss: 2.3741 - val_mse: 2.3741\n",
            "Epoch 175/300\n",
            "4/4 [==============================] - 0s 44ms/step - loss: 0.1868 - mse: 0.1868 - val_loss: 2.3775 - val_mse: 2.3775\n",
            "Epoch 176/300\n",
            "4/4 [==============================] - 0s 42ms/step - loss: 0.1861 - mse: 0.1861 - val_loss: 2.3800 - val_mse: 2.3800\n",
            "Epoch 177/300\n",
            "4/4 [==============================] - 0s 44ms/step - loss: 0.1852 - mse: 0.1852 - val_loss: 2.4082 - val_mse: 2.4082\n",
            "Epoch 178/300\n",
            "4/4 [==============================] - 0s 49ms/step - loss: 0.1861 - mse: 0.1861 - val_loss: 2.4065 - val_mse: 2.4065\n",
            "Epoch 179/300\n",
            "4/4 [==============================] - 0s 43ms/step - loss: 0.1851 - mse: 0.1851 - val_loss: 2.4156 - val_mse: 2.4156\n",
            "Epoch 180/300\n",
            "4/4 [==============================] - 0s 48ms/step - loss: 0.1850 - mse: 0.1850 - val_loss: 2.4179 - val_mse: 2.4179\n",
            "Epoch 181/300\n",
            "4/4 [==============================] - 0s 48ms/step - loss: 0.1842 - mse: 0.1842 - val_loss: 2.4224 - val_mse: 2.4224\n",
            "Epoch 182/300\n",
            "4/4 [==============================] - 0s 43ms/step - loss: 0.1836 - mse: 0.1836 - val_loss: 2.4501 - val_mse: 2.4501\n",
            "Epoch 183/300\n",
            "4/4 [==============================] - 0s 46ms/step - loss: 0.1842 - mse: 0.1842 - val_loss: 2.4560 - val_mse: 2.4560\n",
            "Epoch 184/300\n",
            "4/4 [==============================] - 0s 46ms/step - loss: 0.1839 - mse: 0.1839 - val_loss: 2.4513 - val_mse: 2.4513\n",
            "Epoch 185/300\n",
            "4/4 [==============================] - 0s 46ms/step - loss: 0.1830 - mse: 0.1830 - val_loss: 2.4674 - val_mse: 2.4674\n",
            "Epoch 186/300\n",
            "4/4 [==============================] - 0s 43ms/step - loss: 0.1830 - mse: 0.1830 - val_loss: 2.4823 - val_mse: 2.4823\n",
            "Epoch 187/300\n",
            "4/4 [==============================] - 0s 47ms/step - loss: 0.1833 - mse: 0.1833 - val_loss: 2.4847 - val_mse: 2.4847\n",
            "Epoch 188/300\n",
            "4/4 [==============================] - 0s 43ms/step - loss: 0.1827 - mse: 0.1827 - val_loss: 2.4845 - val_mse: 2.4845\n",
            "Epoch 189/300\n",
            "4/4 [==============================] - 0s 45ms/step - loss: 0.1820 - mse: 0.1820 - val_loss: 2.5028 - val_mse: 2.5028\n",
            "Epoch 190/300\n",
            "4/4 [==============================] - 0s 45ms/step - loss: 0.1821 - mse: 0.1821 - val_loss: 2.5069 - val_mse: 2.5069\n",
            "Epoch 191/300\n",
            "4/4 [==============================] - 0s 45ms/step - loss: 0.1818 - mse: 0.1818 - val_loss: 2.5152 - val_mse: 2.5152\n",
            "Epoch 192/300\n",
            "4/4 [==============================] - 0s 45ms/step - loss: 0.1813 - mse: 0.1813 - val_loss: 2.5194 - val_mse: 2.5194\n",
            "Epoch 193/300\n",
            "4/4 [==============================] - 0s 44ms/step - loss: 0.1811 - mse: 0.1811 - val_loss: 2.5454 - val_mse: 2.5454\n",
            "Epoch 194/300\n",
            "4/4 [==============================] - 0s 49ms/step - loss: 0.1815 - mse: 0.1815 - val_loss: 2.5341 - val_mse: 2.5341\n",
            "Epoch 195/300\n",
            "4/4 [==============================] - 0s 48ms/step - loss: 0.1805 - mse: 0.1805 - val_loss: 2.5440 - val_mse: 2.5440\n",
            "Epoch 196/300\n",
            "4/4 [==============================] - 0s 46ms/step - loss: 0.1803 - mse: 0.1803 - val_loss: 2.5727 - val_mse: 2.5727\n",
            "Epoch 197/300\n",
            "4/4 [==============================] - 0s 43ms/step - loss: 0.1811 - mse: 0.1811 - val_loss: 2.5415 - val_mse: 2.5415\n",
            "Epoch 198/300\n",
            "4/4 [==============================] - 0s 45ms/step - loss: 0.1789 - mse: 0.1789 - val_loss: 2.5809 - val_mse: 2.5809\n",
            "Epoch 199/300\n",
            "4/4 [==============================] - 0s 45ms/step - loss: 0.1802 - mse: 0.1802 - val_loss: 2.5850 - val_mse: 2.5850\n",
            "Epoch 200/300\n",
            "4/4 [==============================] - 0s 42ms/step - loss: 0.1798 - mse: 0.1798 - val_loss: 2.5881 - val_mse: 2.5881\n",
            "Epoch 201/300\n",
            "4/4 [==============================] - 0s 45ms/step - loss: 0.1793 - mse: 0.1793 - val_loss: 2.5705 - val_mse: 2.5705\n",
            "Epoch 202/300\n",
            "4/4 [==============================] - 0s 42ms/step - loss: 0.1779 - mse: 0.1779 - val_loss: 2.6378 - val_mse: 2.6378\n",
            "Epoch 203/300\n",
            "4/4 [==============================] - 0s 48ms/step - loss: 0.1803 - mse: 0.1803 - val_loss: 2.5926 - val_mse: 2.5926\n",
            "Epoch 204/300\n",
            "4/4 [==============================] - 0s 43ms/step - loss: 0.1778 - mse: 0.1778 - val_loss: 2.6286 - val_mse: 2.6286\n",
            "Epoch 205/300\n",
            "4/4 [==============================] - 0s 42ms/step - loss: 0.1787 - mse: 0.1787 - val_loss: 2.6173 - val_mse: 2.6173\n",
            "Epoch 206/300\n",
            "4/4 [==============================] - 0s 42ms/step - loss: 0.1778 - mse: 0.1778 - val_loss: 2.6502 - val_mse: 2.6502\n",
            "Epoch 207/300\n",
            "4/4 [==============================] - 0s 46ms/step - loss: 0.1786 - mse: 0.1786 - val_loss: 2.6257 - val_mse: 2.6257\n",
            "Epoch 208/300\n",
            "4/4 [==============================] - 0s 45ms/step - loss: 0.1772 - mse: 0.1772 - val_loss: 2.6518 - val_mse: 2.6518\n",
            "Epoch 209/300\n",
            "4/4 [==============================] - 0s 43ms/step - loss: 0.1775 - mse: 0.1775 - val_loss: 2.6596 - val_mse: 2.6596\n",
            "Epoch 210/300\n",
            "4/4 [==============================] - 0s 47ms/step - loss: 0.1774 - mse: 0.1774 - val_loss: 2.6687 - val_mse: 2.6687\n",
            "Epoch 211/300\n",
            "4/4 [==============================] - 0s 46ms/step - loss: 0.1774 - mse: 0.1774 - val_loss: 2.6526 - val_mse: 2.6526\n",
            "Epoch 212/300\n",
            "4/4 [==============================] - 0s 49ms/step - loss: 0.1761 - mse: 0.1761 - val_loss: 2.6852 - val_mse: 2.6852\n",
            "Epoch 213/300\n",
            "4/4 [==============================] - 0s 48ms/step - loss: 0.1768 - mse: 0.1768 - val_loss: 2.6846 - val_mse: 2.6846\n",
            "Epoch 214/300\n",
            "4/4 [==============================] - 0s 45ms/step - loss: 0.1765 - mse: 0.1765 - val_loss: 2.6974 - val_mse: 2.6974\n",
            "Epoch 215/300\n",
            "4/4 [==============================] - 0s 44ms/step - loss: 0.1764 - mse: 0.1764 - val_loss: 2.6861 - val_mse: 2.6861\n",
            "Epoch 216/300\n",
            "4/4 [==============================] - 0s 49ms/step - loss: 0.1754 - mse: 0.1754 - val_loss: 2.7169 - val_mse: 2.7169\n",
            "Epoch 217/300\n",
            "4/4 [==============================] - 0s 46ms/step - loss: 0.1761 - mse: 0.1761 - val_loss: 2.7066 - val_mse: 2.7066\n",
            "Epoch 218/300\n",
            "4/4 [==============================] - 0s 43ms/step - loss: 0.1752 - mse: 0.1752 - val_loss: 2.7186 - val_mse: 2.7186\n",
            "Epoch 219/300\n",
            "4/4 [==============================] - 0s 48ms/step - loss: 0.1751 - mse: 0.1751 - val_loss: 2.7343 - val_mse: 2.7343\n",
            "Epoch 220/300\n",
            "4/4 [==============================] - 0s 44ms/step - loss: 0.1753 - mse: 0.1753 - val_loss: 2.7292 - val_mse: 2.7292\n",
            "Epoch 221/300\n",
            "4/4 [==============================] - 0s 48ms/step - loss: 0.1745 - mse: 0.1745 - val_loss: 2.7442 - val_mse: 2.7442\n",
            "Epoch 222/300\n",
            "4/4 [==============================] - 0s 49ms/step - loss: 0.1748 - mse: 0.1748 - val_loss: 2.7478 - val_mse: 2.7478\n",
            "Epoch 223/300\n",
            "4/4 [==============================] - 0s 44ms/step - loss: 0.1743 - mse: 0.1743 - val_loss: 2.7488 - val_mse: 2.7488\n",
            "Epoch 224/300\n",
            "4/4 [==============================] - 0s 44ms/step - loss: 0.1740 - mse: 0.1740 - val_loss: 2.7706 - val_mse: 2.7706\n",
            "Epoch 225/300\n",
            "4/4 [==============================] - 0s 53ms/step - loss: 0.1743 - mse: 0.1743 - val_loss: 2.7639 - val_mse: 2.7639\n",
            "Epoch 226/300\n",
            "4/4 [==============================] - 0s 43ms/step - loss: 0.1736 - mse: 0.1736 - val_loss: 2.7734 - val_mse: 2.7734\n",
            "Epoch 227/300\n",
            "4/4 [==============================] - 0s 43ms/step - loss: 0.1736 - mse: 0.1736 - val_loss: 2.7789 - val_mse: 2.7789\n",
            "Epoch 228/300\n",
            "4/4 [==============================] - 0s 43ms/step - loss: 0.1733 - mse: 0.1733 - val_loss: 2.7916 - val_mse: 2.7916\n",
            "Epoch 229/300\n",
            "4/4 [==============================] - 0s 47ms/step - loss: 0.1733 - mse: 0.1733 - val_loss: 2.7857 - val_mse: 2.7857\n",
            "Epoch 230/300\n",
            "4/4 [==============================] - 0s 45ms/step - loss: 0.1727 - mse: 0.1727 - val_loss: 2.7830 - val_mse: 2.7830\n",
            "Epoch 231/300\n",
            "4/4 [==============================] - 0s 42ms/step - loss: 0.1722 - mse: 0.1722 - val_loss: 2.8358 - val_mse: 2.8358\n",
            "Epoch 232/300\n",
            "4/4 [==============================] - 0s 46ms/step - loss: 0.1737 - mse: 0.1737 - val_loss: 2.7910 - val_mse: 2.7910\n",
            "Epoch 233/300\n",
            "4/4 [==============================] - 0s 44ms/step - loss: 0.1716 - mse: 0.1716 - val_loss: 2.8502 - val_mse: 2.8502\n",
            "Epoch 234/300\n",
            "4/4 [==============================] - 0s 44ms/step - loss: 0.1733 - mse: 0.1733 - val_loss: 2.8069 - val_mse: 2.8069\n",
            "Epoch 235/300\n",
            "4/4 [==============================] - 0s 44ms/step - loss: 0.1713 - mse: 0.1713 - val_loss: 2.8450 - val_mse: 2.8450\n",
            "Epoch 236/300\n",
            "4/4 [==============================] - 0s 44ms/step - loss: 0.1725 - mse: 0.1725 - val_loss: 2.8159 - val_mse: 2.8159\n",
            "Epoch 237/300\n",
            "4/4 [==============================] - 0s 43ms/step - loss: 0.1708 - mse: 0.1708 - val_loss: 2.8476 - val_mse: 2.8476\n",
            "Epoch 238/300\n",
            "4/4 [==============================] - 0s 43ms/step - loss: 0.1716 - mse: 0.1716 - val_loss: 2.8472 - val_mse: 2.8472\n",
            "Epoch 239/300\n",
            "4/4 [==============================] - 0s 43ms/step - loss: 0.1711 - mse: 0.1711 - val_loss: 2.8652 - val_mse: 2.8652\n",
            "Epoch 240/300\n",
            "4/4 [==============================] - 0s 43ms/step - loss: 0.1716 - mse: 0.1716 - val_loss: 2.8448 - val_mse: 2.8448\n",
            "Epoch 241/300\n",
            "4/4 [==============================] - 0s 44ms/step - loss: 0.1702 - mse: 0.1702 - val_loss: 2.8726 - val_mse: 2.8726\n",
            "Epoch 242/300\n",
            "4/4 [==============================] - 0s 44ms/step - loss: 0.1710 - mse: 0.1710 - val_loss: 2.8719 - val_mse: 2.8719\n",
            "Epoch 243/300\n",
            "4/4 [==============================] - 0s 42ms/step - loss: 0.1705 - mse: 0.1705 - val_loss: 2.8743 - val_mse: 2.8743\n",
            "Epoch 244/300\n",
            "4/4 [==============================] - 0s 41ms/step - loss: 0.1702 - mse: 0.1702 - val_loss: 2.8772 - val_mse: 2.8772\n",
            "Epoch 245/300\n",
            "4/4 [==============================] - 0s 50ms/step - loss: 0.1698 - mse: 0.1698 - val_loss: 2.8954 - val_mse: 2.8954\n",
            "Epoch 246/300\n",
            "4/4 [==============================] - 0s 50ms/step - loss: 0.1700 - mse: 0.1700 - val_loss: 2.8942 - val_mse: 2.8942\n",
            "Epoch 247/300\n",
            "4/4 [==============================] - 0s 46ms/step - loss: 0.1698 - mse: 0.1698 - val_loss: 2.8979 - val_mse: 2.8979\n",
            "Epoch 248/300\n",
            "4/4 [==============================] - 0s 44ms/step - loss: 0.1694 - mse: 0.1694 - val_loss: 2.9011 - val_mse: 2.9011\n",
            "Epoch 249/300\n",
            "4/4 [==============================] - 0s 42ms/step - loss: 0.1691 - mse: 0.1691 - val_loss: 2.9198 - val_mse: 2.9198\n",
            "Epoch 250/300\n",
            "4/4 [==============================] - 0s 43ms/step - loss: 0.1692 - mse: 0.1692 - val_loss: 2.9181 - val_mse: 2.9181\n",
            "Epoch 251/300\n",
            "4/4 [==============================] - 0s 46ms/step - loss: 0.1688 - mse: 0.1688 - val_loss: 2.9345 - val_mse: 2.9345\n",
            "Epoch 252/300\n",
            "4/4 [==============================] - 0s 47ms/step - loss: 0.1690 - mse: 0.1690 - val_loss: 2.9210 - val_mse: 2.9210\n",
            "Epoch 253/300\n",
            "4/4 [==============================] - 0s 43ms/step - loss: 0.1681 - mse: 0.1681 - val_loss: 2.9363 - val_mse: 2.9363\n",
            "Epoch 254/300\n",
            "4/4 [==============================] - 0s 42ms/step - loss: 0.1682 - mse: 0.1682 - val_loss: 2.9334 - val_mse: 2.9334\n",
            "Epoch 255/300\n",
            "4/4 [==============================] - 0s 48ms/step - loss: 0.1676 - mse: 0.1676 - val_loss: 2.9601 - val_mse: 2.9601\n",
            "Epoch 256/300\n",
            "4/4 [==============================] - 0s 48ms/step - loss: 0.1682 - mse: 0.1682 - val_loss: 2.9559 - val_mse: 2.9559\n",
            "Epoch 257/300\n",
            "4/4 [==============================] - 0s 48ms/step - loss: 0.1676 - mse: 0.1676 - val_loss: 2.9619 - val_mse: 2.9619\n",
            "Epoch 258/300\n",
            "4/4 [==============================] - 0s 43ms/step - loss: 0.1673 - mse: 0.1673 - val_loss: 2.9636 - val_mse: 2.9636\n",
            "Epoch 259/300\n",
            "4/4 [==============================] - 0s 43ms/step - loss: 0.1670 - mse: 0.1670 - val_loss: 2.9837 - val_mse: 2.9837\n",
            "Epoch 260/300\n",
            "4/4 [==============================] - 0s 46ms/step - loss: 0.1674 - mse: 0.1674 - val_loss: 2.9846 - val_mse: 2.9846\n",
            "Epoch 261/300\n",
            "4/4 [==============================] - 0s 42ms/step - loss: 0.1669 - mse: 0.1669 - val_loss: 2.9803 - val_mse: 2.9803\n",
            "Epoch 262/300\n",
            "4/4 [==============================] - 0s 48ms/step - loss: 0.1663 - mse: 0.1663 - val_loss: 2.9939 - val_mse: 2.9939\n",
            "Epoch 263/300\n",
            "4/4 [==============================] - 0s 42ms/step - loss: 0.1664 - mse: 0.1664 - val_loss: 3.0165 - val_mse: 3.0165\n",
            "Epoch 264/300\n",
            "4/4 [==============================] - 0s 44ms/step - loss: 0.1668 - mse: 0.1668 - val_loss: 2.9905 - val_mse: 2.9905\n",
            "Epoch 265/300\n",
            "4/4 [==============================] - 0s 45ms/step - loss: 0.1654 - mse: 0.1654 - val_loss: 3.0325 - val_mse: 3.0325\n",
            "Epoch 266/300\n",
            "4/4 [==============================] - 0s 44ms/step - loss: 0.1664 - mse: 0.1664 - val_loss: 3.0240 - val_mse: 3.0240\n",
            "Epoch 267/300\n",
            "4/4 [==============================] - 0s 44ms/step - loss: 0.1657 - mse: 0.1657 - val_loss: 3.0119 - val_mse: 3.0119\n",
            "Epoch 268/300\n",
            "4/4 [==============================] - 0s 43ms/step - loss: 0.1650 - mse: 0.1650 - val_loss: 3.0326 - val_mse: 3.0326\n",
            "Epoch 269/300\n",
            "4/4 [==============================] - 0s 46ms/step - loss: 0.1649 - mse: 0.1649 - val_loss: 3.0421 - val_mse: 3.0421\n",
            "Epoch 270/300\n",
            "4/4 [==============================] - 0s 47ms/step - loss: 0.1650 - mse: 0.1650 - val_loss: 3.0421 - val_mse: 3.0421\n",
            "Epoch 271/300\n",
            "4/4 [==============================] - 0s 44ms/step - loss: 0.1647 - mse: 0.1647 - val_loss: 3.0519 - val_mse: 3.0519\n",
            "Epoch 272/300\n",
            "4/4 [==============================] - 0s 44ms/step - loss: 0.1646 - mse: 0.1646 - val_loss: 3.0455 - val_mse: 3.0455\n",
            "Epoch 273/300\n",
            "4/4 [==============================] - 0s 49ms/step - loss: 0.1641 - mse: 0.1641 - val_loss: 3.0792 - val_mse: 3.0792\n",
            "Epoch 274/300\n",
            "4/4 [==============================] - 0s 45ms/step - loss: 0.1647 - mse: 0.1647 - val_loss: 3.0456 - val_mse: 3.0456\n",
            "Epoch 275/300\n",
            "4/4 [==============================] - 0s 44ms/step - loss: 0.1633 - mse: 0.1633 - val_loss: 3.0703 - val_mse: 3.0703\n",
            "Epoch 276/300\n",
            "4/4 [==============================] - 0s 49ms/step - loss: 0.1638 - mse: 0.1638 - val_loss: 3.0738 - val_mse: 3.0738\n",
            "Epoch 277/300\n",
            "4/4 [==============================] - 0s 43ms/step - loss: 0.1633 - mse: 0.1633 - val_loss: 3.0858 - val_mse: 3.0858\n",
            "Epoch 278/300\n",
            "4/4 [==============================] - 0s 50ms/step - loss: 0.1635 - mse: 0.1635 - val_loss: 3.0814 - val_mse: 3.0814\n",
            "Epoch 279/300\n",
            "4/4 [==============================] - 0s 44ms/step - loss: 0.1630 - mse: 0.1630 - val_loss: 3.0988 - val_mse: 3.0988\n",
            "Epoch 280/300\n",
            "4/4 [==============================] - 0s 44ms/step - loss: 0.1631 - mse: 0.1631 - val_loss: 3.0856 - val_mse: 3.0856\n",
            "Epoch 281/300\n",
            "4/4 [==============================] - 0s 45ms/step - loss: 0.1624 - mse: 0.1624 - val_loss: 3.1043 - val_mse: 3.1043\n",
            "Epoch 282/300\n",
            "4/4 [==============================] - 0s 47ms/step - loss: 0.1624 - mse: 0.1624 - val_loss: 3.1200 - val_mse: 3.1200\n",
            "Epoch 283/300\n",
            "4/4 [==============================] - 0s 43ms/step - loss: 0.1627 - mse: 0.1627 - val_loss: 3.1038 - val_mse: 3.1038\n",
            "Epoch 284/300\n",
            "4/4 [==============================] - 0s 47ms/step - loss: 0.1618 - mse: 0.1618 - val_loss: 3.1275 - val_mse: 3.1275\n",
            "Epoch 285/300\n",
            "4/4 [==============================] - 0s 45ms/step - loss: 0.1620 - mse: 0.1620 - val_loss: 3.1144 - val_mse: 3.1144\n",
            "Epoch 286/300\n",
            "4/4 [==============================] - 0s 48ms/step - loss: 0.1614 - mse: 0.1614 - val_loss: 3.1507 - val_mse: 3.1507\n",
            "Epoch 287/300\n",
            "4/4 [==============================] - 0s 53ms/step - loss: 0.1621 - mse: 0.1621 - val_loss: 3.1199 - val_mse: 3.1199\n",
            "Epoch 288/300\n",
            "4/4 [==============================] - 0s 45ms/step - loss: 0.1608 - mse: 0.1608 - val_loss: 3.1402 - val_mse: 3.1402\n",
            "Epoch 289/300\n",
            "4/4 [==============================] - 0s 43ms/step - loss: 0.1609 - mse: 0.1609 - val_loss: 3.1621 - val_mse: 3.1621\n",
            "Epoch 290/300\n",
            "4/4 [==============================] - 0s 43ms/step - loss: 0.1613 - mse: 0.1613 - val_loss: 3.1402 - val_mse: 3.1402\n",
            "Epoch 291/300\n",
            "4/4 [==============================] - 0s 45ms/step - loss: 0.1602 - mse: 0.1602 - val_loss: 3.1846 - val_mse: 3.1846\n",
            "Epoch 292/300\n",
            "4/4 [==============================] - 0s 53ms/step - loss: 0.1612 - mse: 0.1612 - val_loss: 3.1547 - val_mse: 3.1547\n",
            "Epoch 293/300\n",
            "4/4 [==============================] - 0s 42ms/step - loss: 0.1600 - mse: 0.1600 - val_loss: 3.1611 - val_mse: 3.1611\n",
            "Epoch 294/300\n",
            "4/4 [==============================] - 0s 46ms/step - loss: 0.1597 - mse: 0.1597 - val_loss: 3.1759 - val_mse: 3.1759\n",
            "Epoch 295/300\n",
            "4/4 [==============================] - 0s 48ms/step - loss: 0.1597 - mse: 0.1597 - val_loss: 3.2030 - val_mse: 3.2030\n",
            "Epoch 296/300\n",
            "4/4 [==============================] - 0s 43ms/step - loss: 0.1602 - mse: 0.1602 - val_loss: 3.1805 - val_mse: 3.1805\n",
            "Epoch 297/300\n",
            "4/4 [==============================] - 0s 45ms/step - loss: 0.1592 - mse: 0.1592 - val_loss: 3.2059 - val_mse: 3.2059\n",
            "Epoch 298/300\n",
            "4/4 [==============================] - 0s 49ms/step - loss: 0.1593 - mse: 0.1593 - val_loss: 3.1981 - val_mse: 3.1981\n",
            "Epoch 299/300\n",
            "4/4 [==============================] - 0s 48ms/step - loss: 0.1589 - mse: 0.1589 - val_loss: 3.1991 - val_mse: 3.1991\n",
            "Epoch 300/300\n",
            "4/4 [==============================] - 0s 45ms/step - loss: 0.1584 - mse: 0.1584 - val_loss: 3.2158 - val_mse: 3.2158\n"
          ]
        }
      ]
    },
    {
      "cell_type": "code",
      "source": [
        "predict= model.predict(dataset_train).flatten()\n",
        "predict_test = model.predict(dataset_test).flatten()"
      ],
      "metadata": {
        "id": "uGAPYXaLRzEr"
      },
      "execution_count": 75,
      "outputs": []
    },
    {
      "cell_type": "code",
      "source": [
        "start = 0\n",
        "plt.figure(figsize=(10,5))\n",
        "plt.grid('on')\n",
        "plt.plot(predict[h+start:h+train_split], \n",
        "         label='Прогноз')\n",
        "plt.plot(y_train.flatten()[start:train_split])\n",
        "plt.xlabel('Время')\n",
        "plt.legend()\n",
        "plt.show()"
      ],
      "metadata": {
        "colab": {
          "base_uri": "https://localhost:8080/",
          "height": 334
        },
        "id": "1oN6jV-2UYDy",
        "outputId": "ef2c19b4-1e85-4186-8cf7-d1b65c75ffbd"
      },
      "execution_count": 76,
      "outputs": [
        {
          "output_type": "display_data",
          "data": {
            "text/plain": [
              "<Figure size 720x360 with 1 Axes>"
            ],
            "image/png": "[encoded data removed]"
          },
          "metadata": {
            "needs_background": "light"
          }
        }
      ]
    },
    {
      "cell_type": "markdown",
      "source": [
        "##Генерация текста на основе книжки «Алиса в стране чудес»"
      ],
      "metadata": {
        "id": "axBzaUmTYJH1"
      }
    },
    {
      "cell_type": "code",
      "execution_count": null,
      "metadata": {
        "id": "99v6TBSqHBjU"
      },
      "outputs": [],
      "source": [
        "import numpy as np\n",
        "from tensorflow.keras.layers import Dense, Activation\n",
        "from tensorflow.keras.layers import SimpleRNN, LSTM, GRU\n",
        "from tensorflow.keras.models import Sequential"
      ]
    },
    {
      "cell_type": "code",
      "execution_count": null,
      "metadata": {
        "id": "0FoMKffgHIyR"
      },
      "outputs": [],
      "source": [
        "# построчное чтение из примера с текстом \n",
        "with open(\"alice_in_wonderland.txt\", 'rb') as _in:\n",
        "    lines = []\n",
        "    for line in _in:\n",
        "        line = line.strip().lower().decode(\"ascii\", \"ignore\")\n",
        "        if len(line) == 0:\n",
        "            continue\n",
        "        lines.append(line)\n",
        "text = \" \".join(lines)\n",
        "chars = set(text)\n",
        "nb_chars = len(chars)"
      ]
    },
    {
      "cell_type": "code",
      "execution_count": null,
      "metadata": {
        "colab": {
          "base_uri": "https://localhost:8080/"
        },
        "id": "Qu08wn8GztrM",
        "outputId": "68ef69cd-25f8-498f-8930-bc88d066d463"
      },
      "outputs": [
        {
          "data": {
            "text/plain": [
              "55"
            ]
          },
          "execution_count": 247,
          "metadata": {},
          "output_type": "execute_result"
        }
      ],
      "source": [
        "len(chars)"
      ]
    },
    {
      "cell_type": "code",
      "execution_count": null,
      "metadata": {
        "id": "xlcUCnMRHfzk"
      },
      "outputs": [],
      "source": [
        "# создание индекса символов и reverse mapping чтобы передвигаться между значениями numerical\n",
        "# ID and a specific character. The numerical ID will correspond to a column\n",
        "# ID и определенный символ. Numerical ID будет соответсвовать колонке\n",
        "# число при использовании one-hot кодировки для представление входов символов\n",
        "char2index = {c: i for i, c in enumerate(chars)}\n",
        "index2char = {i: c for i, c in enumerate(chars)}"
      ]
    },
    {
      "cell_type": "code",
      "execution_count": null,
      "metadata": {
        "scrolled": true,
        "id": "waxJWtoxKGg_",
        "outputId": "37fd326e-cc74-4774-fd72-baa88eeaa128"
      },
      "outputs": [
        {
          "data": {
            "text/plain": [
              "{0: 'c',\n",
              " 1: 'w',\n",
              " 2: '?',\n",
              " 3: ' ',\n",
              " 4: 'h',\n",
              " 5: ')',\n",
              " 6: 'e',\n",
              " 7: 'n',\n",
              " 8: 'z',\n",
              " 9: '.',\n",
              " 10: 't',\n",
              " 11: '%',\n",
              " 12: 'u',\n",
              " 13: '5',\n",
              " 14: ';',\n",
              " 15: '9',\n",
              " 16: 'o',\n",
              " 17: '[',\n",
              " 18: '/',\n",
              " 19: '#',\n",
              " 20: 'p',\n",
              " 21: '6',\n",
              " 22: '@',\n",
              " 23: 'm',\n",
              " 24: '2',\n",
              " 25: '1',\n",
              " 26: '$',\n",
              " 27: 'a',\n",
              " 28: '!',\n",
              " 29: 'i',\n",
              " 30: 'l',\n",
              " 31: ',',\n",
              " 32: '_',\n",
              " 33: '8',\n",
              " 34: '7',\n",
              " 35: '*',\n",
              " 36: 'b',\n",
              " 37: 'j',\n",
              " 38: 'v',\n",
              " 39: 'k',\n",
              " 40: 'y',\n",
              " 41: '4',\n",
              " 42: 's',\n",
              " 43: ':',\n",
              " 44: 'q',\n",
              " 45: '(',\n",
              " 46: 'r',\n",
              " 47: 'g',\n",
              " 48: 'x',\n",
              " 49: '0',\n",
              " 50: 'd',\n",
              " 51: 'f',\n",
              " 52: '-',\n",
              " 53: ']',\n",
              " 54: '3'}"
            ]
          },
          "execution_count": 255,
          "metadata": {},
          "output_type": "execute_result"
        }
      ],
      "source": [
        "index2char"
      ]
    },
    {
      "cell_type": "code",
      "execution_count": null,
      "metadata": {
        "id": "TQZaEpb-Hlyg"
      },
      "outputs": [],
      "source": [
        "# для удобства выберете фиксированную длину последовательность 10 символов \n",
        "SEQLEN, STEP = 10, 1\n",
        "input_chars, label_chars = [], []\n",
        "\n",
        "# конвертация data в серии разных SEQLEN-length субпоследовательностей\n",
        "for i in range(0, len(text) - SEQLEN, STEP):\n",
        "    input_chars.append(text[i: i + SEQLEN])\n",
        "    label_chars.append(text[i + SEQLEN])"
      ]
    },
    {
      "cell_type": "code",
      "execution_count": null,
      "metadata": {
        "id": "R1CHPyqtKGg_",
        "outputId": "3647f707-370c-4444-9392-a8344ed76d55"
      },
      "outputs": [
        {
          "data": {
            "text/plain": [
              "158773"
            ]
          },
          "execution_count": 253,
          "metadata": {},
          "output_type": "execute_result"
        }
      ],
      "source": [
        "len(input_chars)"
      ]
    },
    {
      "cell_type": "code",
      "execution_count": null,
      "metadata": {
        "colab": {
          "base_uri": "https://localhost:8080/"
        },
        "id": "BEMyktdvHqjc",
        "outputId": "0c0d6b26-f4d3-43d2-9901-917f9eaa6d27"
      },
      "outputs": [
        {
          "data": {
            "text/plain": [
              "('project gu', 't')"
            ]
          },
          "execution_count": 251,
          "metadata": {},
          "output_type": "execute_result"
        }
      ],
      "source": [
        "input_chars[0], label_chars[0]"
      ]
    },
    {
      "cell_type": "code",
      "execution_count": null,
      "metadata": {
        "colab": {
          "base_uri": "https://localhost:8080/"
        },
        "id": "9F663JydpkOv",
        "outputId": "2f231045-430f-41ff-db42-5bac19152907"
      },
      "outputs": [
        {
          "data": {
            "text/plain": [
              "('roject gut', 'e')"
            ]
          },
          "execution_count": 252,
          "metadata": {},
          "output_type": "execute_result"
        }
      ],
      "source": [
        "input_chars[1], label_chars[1]"
      ]
    },
    {
      "cell_type": "code",
      "execution_count": null,
      "metadata": {
        "colab": {
          "base_uri": "https://localhost:8080/"
        },
        "id": "9L3y9LfmHywZ",
        "outputId": "1192ea8e-a540-4367-9171-4663d2535497"
      },
      "outputs": [
        {
          "name": "stderr",
          "output_type": "stream",
          "text": [
            "C:\\Users\\Pirozhok\\AppData\\Local\\Temp\\ipykernel_23436\\1321165275.py:3: DeprecationWarning: `np.bool` is a deprecated alias for the builtin `bool`. To silence this warning, use `bool` by itself. Doing this will not modify any behavior and is safe. If you specifically wanted the numpy scalar type, use `np.bool_` here.\n",
            "Deprecated in NumPy 1.20; for more details and guidance: https://numpy.org/devdocs/release/1.20.0-notes.html#deprecations\n",
            "  X = np.zeros((len(input_chars), SEQLEN, nb_chars), dtype=np.bool)\n",
            "C:\\Users\\Pirozhok\\AppData\\Local\\Temp\\ipykernel_23436\\1321165275.py:4: DeprecationWarning: `np.bool` is a deprecated alias for the builtin `bool`. To silence this warning, use `bool` by itself. Doing this will not modify any behavior and is safe. If you specifically wanted the numpy scalar type, use `np.bool_` here.\n",
            "Deprecated in NumPy 1.20; for more details and guidance: https://numpy.org/devdocs/release/1.20.0-notes.html#deprecations\n",
            "  y = np.zeros((len(input_chars), nb_chars), dtype=np.bool)\n"
          ]
        }
      ],
      "source": [
        "# Вычисление one-hot encoding входных последовательностей X и следующего символа (the label) y\n",
        "\n",
        "X = np.zeros((len(input_chars), SEQLEN, nb_chars), dtype=np.bool)\n",
        "y = np.zeros((len(input_chars), nb_chars), dtype=np.bool)\n",
        "for i, input_char in enumerate(input_chars):\n",
        "    for j, ch in enumerate(input_char):\n",
        "        X[i, j, char2index[ch]] = 1\n",
        "    y[i, char2index[label_chars[i]]] = 1"
      ]
    },
    {
      "cell_type": "code",
      "execution_count": null,
      "metadata": {
        "id": "NbYQK1J2KGhA",
        "outputId": "5ec9917a-7950-43e6-9987-cbb8183140ff"
      },
      "outputs": [
        {
          "data": {
            "text/plain": [
              "(158773, 10, 55)"
            ]
          },
          "execution_count": 257,
          "metadata": {},
          "output_type": "execute_result"
        }
      ],
      "source": [
        "X.shape"
      ]
    },
    {
      "cell_type": "code",
      "execution_count": null,
      "metadata": {
        "id": "FWqwrcHiH6gw"
      },
      "outputs": [],
      "source": [
        "# установка ряда метапамертров  для нейронной сети и процесса тренировки\n",
        "BATCH_SIZE, HIDDEN_SIZE = 128, 128\n",
        "NUM_ITERATIONS = 10 # 25 должно быть достаточно\n",
        "NUM_EPOCHS_PER_ITERATION = 1\n",
        "NUM_PREDS_PER_EPOCH = 100"
      ]
    },
    {
      "cell_type": "code",
      "execution_count": null,
      "metadata": {
        "id": "XOhbTKqmIApm",
        "outputId": "13f87722-77e0-444e-a229-751be58b1801"
      },
      "outputs": [
        {
          "name": "stdout",
          "output_type": "stream",
          "text": [
            "WARNING:tensorflow:Layer gru_11 will not use cuDNN kernels since it doesn't meet the criteria. It will use a generic GPU kernel as fallback when running on GPU.\n",
            "WARNING:tensorflow:Layer gru_12 will not use cuDNN kernels since it doesn't meet the criteria. It will use a generic GPU kernel as fallback when running on GPU.\n"
          ]
        }
      ],
      "source": [
        "'''\n",
        "Создание очень простой рекуррентной нейронной сети. В ней будет один реккурентный закодированный входной слой. \n",
        "За ним последует полносвязный слой связанный с набором возможных следующих символов, \n",
        "которые конвертированы в вероятностные результаты через стандартную softmax активацию \n",
        "с multi-class cross-encoding loss функцию ссылающуются на предсказание one-hot encoding лейбл символа\n",
        "'''\n",
        "\n",
        "model = Sequential()\n",
        "model.add(\n",
        "    GRU(  # вы можете изменить эту часть на LSTM или SimpleRNN, чтобы попробовать альтернативы\n",
        "        HIDDEN_SIZE,\n",
        "        return_sequences=True,\n",
        "        input_shape=(SEQLEN, nb_chars),\n",
        "        unroll=True\n",
        "    )\n",
        ")\n",
        "\n",
        "model.add(\n",
        "    GRU(  # вы можете изменить эту часть на LSTM или SimpleRNN, чтобы попробовать альтернативы\n",
        "        HIDDEN_SIZE,\n",
        "        return_sequences=False,\n",
        "        unroll=True\n",
        "    )\n",
        ")\n",
        "\n",
        "model.add(Dense(nb_chars))\n",
        "model.add(Activation(\"softmax\"))\n",
        "model.compile(loss=\"categorical_crossentropy\", optimizer=\"rmsprop\")"
      ]
    },
    {
      "cell_type": "code",
      "execution_count": null,
      "metadata": {
        "colab": {
          "base_uri": "https://localhost:8080/"
        },
        "id": "CsGE7YUdITrA",
        "outputId": "7e54fc46-8b4d-498b-ec84-0399313d11f3",
        "scrolled": false
      },
      "outputs": [
        {
          "name": "stdout",
          "output_type": "stream",
          "text": [
            "==================================================\n",
            "Итерация #: 0\n",
            "1241/1241 [==============================] - 67s 49ms/step - loss: 2.1828\n",
            "Генерация из посева: t before t\n",
            "t before the project and the project and the project and the project and the project and the project and the p==================================================\n",
            "Итерация #: 1\n",
            "1241/1241 [==============================] - 60s 49ms/step - loss: 1.7513\n",
            "Генерация из посева:  baby--the\n",
            " baby--the had not and the rabbit and the rabbit and the rabbit and the rabbit and the rabbit and the rabbit a==================================================\n",
            "Итерация #: 2\n",
            "1241/1241 [==============================] - 62s 50ms/step - loss: 1.5765\n",
            "Генерация из посева: alice appe\n",
            "alice appeared to the gryphon and the gryphon and the gryphon and the gryphon and the gryphon and the gryphon ==================================================\n",
            "Итерация #: 3\n",
            "1241/1241 [==============================] - 60s 48ms/step - loss: 1.4625\n",
            "Генерация из посева: ut i dont \n",
            "ut i dont the more the more the more the more the more the more the more the more the more the more the more t==================================================\n",
            "Итерация #: 4\n",
            "1241/1241 [==============================] - 60s 48ms/step - loss: 1.3815\n",
            "Генерация из посева: alice dodg\n",
            "alice dodg to the time to see it as she said to see it as she said to see it as she said to see it as she said==================================================\n",
            "Итерация #: 5\n",
            "1241/1241 [==============================] - 58s 47ms/step - loss: 1.3208\n",
            "Генерация из посева: ve a look \n",
            "ve a look at all the some to be a little thing in the seated the gryphon, and the dormouse the dormouse the do==================================================\n",
            "Итерация #: 6\n",
            "1241/1241 [==============================] - 56s 45ms/step - loss: 1.2706\n",
            "Генерация из посева: ice in a t\n",
            "ice in a tone of the words were the words were the words were the words were the words were the words were the==================================================\n",
            "Итерация #: 7\n",
            "1241/1241 [==============================] - 51s 41ms/step - loss: 1.2292\n",
            "Генерация из посева: t, you may\n",
            "t, you may continued to be a little took the words with a sort of the work in a conversations to the words wit==================================================\n",
            "Итерация #: 8\n",
            "1241/1241 [==============================] - 51s 41ms/step - loss: 1.1925\n",
            "Генерация из посева: ! said the\n",
            "! said the caterpillar called a little girl you think you can do not cats and was a good deal sat down and she==================================================\n",
            "Итерация #: 9\n",
            "1241/1241 [==============================] - 46s 37ms/step - loss: 1.1592\n",
            "Генерация из посева: ng to alic\n",
            "ng to alice had not a little golden key, and she could not to see it was a low voice, and said to herself, and"
          ]
        }
      ],
      "source": [
        "# выполнение серий тренировочных и демонстрационных итераций \n",
        "for iteration in range(NUM_ITERATIONS):\n",
        "\n",
        "    # для каждой итерации запуск передачи данных в модель \n",
        "    print(\"=\" * 50)\n",
        "    print(\"Итерация #: %d\" % (iteration))\n",
        "    model.fit(X, y, batch_size=BATCH_SIZE, epochs=NUM_EPOCHS_PER_ITERATION)\n",
        "\n",
        "    # Select a random example input sequence.\n",
        "    test_idx = np.random.randint(len(input_chars))\n",
        "    test_chars = input_chars[test_idx]\n",
        "\n",
        "    # для числа шагов предсказаний использование текущей тренируемой модели \n",
        "    # конструирование one-hot encoding для тестирования input и добавление предсказания.\n",
        "    print(\"Генерация из посева: %s\" % (test_chars))\n",
        "    print(test_chars, end=\"\")\n",
        "    for i in range(NUM_PREDS_PER_EPOCH):\n",
        "\n",
        "        # здесь one-hot encoding.\n",
        "        X_test = np.zeros((1, SEQLEN, nb_chars))\n",
        "        for j, ch in enumerate(test_chars):\n",
        "            X_test[0, j, char2index[ch]] = 1\n",
        "\n",
        "        # осуществление предсказания с помощью текущей модели.\n",
        "        pred = model.predict(X_test, verbose=0)[0]\n",
        "        y_pred = index2char[np.argmax(pred)]\n",
        "\n",
        "        # вывод предсказания добавленного к тестовому примеру \n",
        "        print(y_pred, end=\"\")\n",
        "\n",
        "        # инкрементация тестового примера содержащего предсказание\n",
        "        test_chars = test_chars[1:] + y_pred"
      ]
    }
  ]
}