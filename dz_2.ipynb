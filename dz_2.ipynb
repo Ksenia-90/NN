{
  "nbformat": 4,
  "nbformat_minor": 0,
  "metadata": {
    "colab": {
      "name": "dz_2.ipynb",
      "provenance": [],
      "collapsed_sections": [],
      "include_colab_link": true
    },
    "kernelspec": {
      "name": "python3",
      "display_name": "Python 3"
    },
    "language_info": {
      "name": "python"
    }
  },
  "cells": [
    {
      "cell_type": "markdown",
      "metadata": {
        "id": "view-in-github",
        "colab_type": "text"
      },
      "source": [
        "<a href=\"https://colab.research.google.com/github/Ksenia-90/NN/blob/lesson_2/dz_2.ipynb\" target=\"_parent\"><img src=\"https://colab.research.google.com/assets/colab-badge.svg\" alt=\"Open In Colab\"/></a>"
      ]
    },
    {
      "cell_type": "code",
      "execution_count": 51,
      "metadata": {
        "id": "Yf5KcprD6ItV",
        "colab": {
          "base_uri": "https://localhost:8080/"
        },
        "outputId": "3d7879a2-14e5-489a-e599-b915634318d2"
      },
      "outputs": [
        {
          "output_type": "stream",
          "name": "stdout",
          "text": [
            "Looking in indexes: https://pypi.org/simple, https://us-python.pkg.dev/colab-wheels/public/simple/\n",
            "Requirement already satisfied: tensorflow in /usr/local/lib/python3.7/dist-packages (2.8.0+zzzcolab20220506162203)\n",
            "Requirement already satisfied: mnist in /usr/local/lib/python3.7/dist-packages (0.2.2)\n",
            "Requirement already satisfied: matplotlib in /usr/local/lib/python3.7/dist-packages (3.2.2)\n",
            "Requirement already satisfied: numpy in /usr/local/lib/python3.7/dist-packages (1.21.6)\n",
            "Requirement already satisfied: h5py>=2.9.0 in /usr/local/lib/python3.7/dist-packages (from tensorflow) (3.1.0)\n",
            "Requirement already satisfied: typing-extensions>=3.6.6 in /usr/local/lib/python3.7/dist-packages (from tensorflow) (4.2.0)\n",
            "Requirement already satisfied: gast>=0.2.1 in /usr/local/lib/python3.7/dist-packages (from tensorflow) (0.5.3)\n",
            "Requirement already satisfied: google-pasta>=0.1.1 in /usr/local/lib/python3.7/dist-packages (from tensorflow) (0.2.0)\n",
            "Requirement already satisfied: opt-einsum>=2.3.2 in /usr/local/lib/python3.7/dist-packages (from tensorflow) (3.3.0)\n",
            "Requirement already satisfied: tensorboard<2.9,>=2.8 in /usr/local/lib/python3.7/dist-packages (from tensorflow) (2.8.0)\n",
            "Requirement already satisfied: keras-preprocessing>=1.1.1 in /usr/local/lib/python3.7/dist-packages (from tensorflow) (1.1.2)\n",
            "Requirement already satisfied: flatbuffers>=1.12 in /usr/local/lib/python3.7/dist-packages (from tensorflow) (2.0)\n",
            "Requirement already satisfied: grpcio<2.0,>=1.24.3 in /usr/local/lib/python3.7/dist-packages (from tensorflow) (1.46.1)\n",
            "Requirement already satisfied: protobuf>=3.9.2 in /usr/local/lib/python3.7/dist-packages (from tensorflow) (3.17.3)\n",
            "Requirement already satisfied: tf-estimator-nightly==2.8.0.dev2021122109 in /usr/local/lib/python3.7/dist-packages (from tensorflow) (2.8.0.dev2021122109)\n",
            "Requirement already satisfied: six>=1.12.0 in /usr/local/lib/python3.7/dist-packages (from tensorflow) (1.15.0)\n",
            "Requirement already satisfied: termcolor>=1.1.0 in /usr/local/lib/python3.7/dist-packages (from tensorflow) (1.1.0)\n",
            "Requirement already satisfied: astunparse>=1.6.0 in /usr/local/lib/python3.7/dist-packages (from tensorflow) (1.6.3)\n",
            "Requirement already satisfied: setuptools in /usr/local/lib/python3.7/dist-packages (from tensorflow) (57.4.0)\n",
            "Requirement already satisfied: absl-py>=0.4.0 in /usr/local/lib/python3.7/dist-packages (from tensorflow) (1.0.0)\n",
            "Requirement already satisfied: wrapt>=1.11.0 in /usr/local/lib/python3.7/dist-packages (from tensorflow) (1.14.1)\n",
            "Requirement already satisfied: tensorflow-io-gcs-filesystem>=0.23.1 in /usr/local/lib/python3.7/dist-packages (from tensorflow) (0.26.0)\n",
            "Requirement already satisfied: libclang>=9.0.1 in /usr/local/lib/python3.7/dist-packages (from tensorflow) (14.0.1)\n",
            "Requirement already satisfied: keras<2.9,>=2.8.0rc0 in /usr/local/lib/python3.7/dist-packages (from tensorflow) (2.8.0)\n",
            "Requirement already satisfied: wheel<1.0,>=0.23.0 in /usr/local/lib/python3.7/dist-packages (from astunparse>=1.6.0->tensorflow) (0.37.1)\n",
            "Requirement already satisfied: cached-property in /usr/local/lib/python3.7/dist-packages (from h5py>=2.9.0->tensorflow) (1.5.2)\n",
            "Requirement already satisfied: google-auth<3,>=1.6.3 in /usr/local/lib/python3.7/dist-packages (from tensorboard<2.9,>=2.8->tensorflow) (1.35.0)\n",
            "Requirement already satisfied: werkzeug>=0.11.15 in /usr/local/lib/python3.7/dist-packages (from tensorboard<2.9,>=2.8->tensorflow) (1.0.1)\n",
            "Requirement already satisfied: tensorboard-plugin-wit>=1.6.0 in /usr/local/lib/python3.7/dist-packages (from tensorboard<2.9,>=2.8->tensorflow) (1.8.1)\n",
            "Requirement already satisfied: requests<3,>=2.21.0 in /usr/local/lib/python3.7/dist-packages (from tensorboard<2.9,>=2.8->tensorflow) (2.23.0)\n",
            "Requirement already satisfied: markdown>=2.6.8 in /usr/local/lib/python3.7/dist-packages (from tensorboard<2.9,>=2.8->tensorflow) (3.3.7)\n",
            "Requirement already satisfied: tensorboard-data-server<0.7.0,>=0.6.0 in /usr/local/lib/python3.7/dist-packages (from tensorboard<2.9,>=2.8->tensorflow) (0.6.1)\n",
            "Requirement already satisfied: google-auth-oauthlib<0.5,>=0.4.1 in /usr/local/lib/python3.7/dist-packages (from tensorboard<2.9,>=2.8->tensorflow) (0.4.6)\n",
            "Requirement already satisfied: cachetools<5.0,>=2.0.0 in /usr/local/lib/python3.7/dist-packages (from google-auth<3,>=1.6.3->tensorboard<2.9,>=2.8->tensorflow) (4.2.4)\n",
            "Requirement already satisfied: pyasn1-modules>=0.2.1 in /usr/local/lib/python3.7/dist-packages (from google-auth<3,>=1.6.3->tensorboard<2.9,>=2.8->tensorflow) (0.2.8)\n",
            "Requirement already satisfied: rsa<5,>=3.1.4 in /usr/local/lib/python3.7/dist-packages (from google-auth<3,>=1.6.3->tensorboard<2.9,>=2.8->tensorflow) (4.8)\n",
            "Requirement already satisfied: requests-oauthlib>=0.7.0 in /usr/local/lib/python3.7/dist-packages (from google-auth-oauthlib<0.5,>=0.4.1->tensorboard<2.9,>=2.8->tensorflow) (1.3.1)\n",
            "Requirement already satisfied: importlib-metadata>=4.4 in /usr/local/lib/python3.7/dist-packages (from markdown>=2.6.8->tensorboard<2.9,>=2.8->tensorflow) (4.11.3)\n",
            "Requirement already satisfied: zipp>=0.5 in /usr/local/lib/python3.7/dist-packages (from importlib-metadata>=4.4->markdown>=2.6.8->tensorboard<2.9,>=2.8->tensorflow) (3.8.0)\n",
            "Requirement already satisfied: pyasn1<0.5.0,>=0.4.6 in /usr/local/lib/python3.7/dist-packages (from pyasn1-modules>=0.2.1->google-auth<3,>=1.6.3->tensorboard<2.9,>=2.8->tensorflow) (0.4.8)\n",
            "Requirement already satisfied: idna<3,>=2.5 in /usr/local/lib/python3.7/dist-packages (from requests<3,>=2.21.0->tensorboard<2.9,>=2.8->tensorflow) (2.10)\n",
            "Requirement already satisfied: chardet<4,>=3.0.2 in /usr/local/lib/python3.7/dist-packages (from requests<3,>=2.21.0->tensorboard<2.9,>=2.8->tensorflow) (3.0.4)\n",
            "Requirement already satisfied: certifi>=2017.4.17 in /usr/local/lib/python3.7/dist-packages (from requests<3,>=2.21.0->tensorboard<2.9,>=2.8->tensorflow) (2022.5.18.1)\n",
            "Requirement already satisfied: urllib3!=1.25.0,!=1.25.1,<1.26,>=1.21.1 in /usr/local/lib/python3.7/dist-packages (from requests<3,>=2.21.0->tensorboard<2.9,>=2.8->tensorflow) (1.24.3)\n",
            "Requirement already satisfied: oauthlib>=3.0.0 in /usr/local/lib/python3.7/dist-packages (from requests-oauthlib>=0.7.0->google-auth-oauthlib<0.5,>=0.4.1->tensorboard<2.9,>=2.8->tensorflow) (3.2.0)\n",
            "Requirement already satisfied: python-dateutil>=2.1 in /usr/local/lib/python3.7/dist-packages (from matplotlib) (2.8.2)\n",
            "Requirement already satisfied: pyparsing!=2.0.4,!=2.1.2,!=2.1.6,>=2.0.1 in /usr/local/lib/python3.7/dist-packages (from matplotlib) (3.0.9)\n",
            "Requirement already satisfied: kiwisolver>=1.0.1 in /usr/local/lib/python3.7/dist-packages (from matplotlib) (1.4.2)\n",
            "Requirement already satisfied: cycler>=0.10 in /usr/local/lib/python3.7/dist-packages (from matplotlib) (0.11.0)\n"
          ]
        }
      ],
      "source": [
        "!pip install tensorflow mnist matplotlib numpy"
      ]
    },
    {
      "cell_type": "markdown",
      "source": [
        "# Загрузка данных"
      ],
      "metadata": {
        "id": "qyGpfP_16z3K"
      }
    },
    {
      "cell_type": "code",
      "source": [
        "import mnist\n",
        "\n",
        "# The first time you run this might be a bit slow, since the\n",
        "# mnist package has to download and cache the data.\n",
        "train_images = mnist.train_images()\n",
        "train_labels = mnist.train_labels()\n",
        "\n",
        "test_images = mnist.test_images()\n",
        "test_labels = mnist.test_labels()\n",
        "\n",
        "# Normalize the images.\n",
        "train_images = (train_images / 255) - 0.5\n",
        "test_images = (test_images / 255) - 0.5\n",
        "\n",
        "print(train_images.shape) # (60000, 28, 28)\n",
        "print(train_labels.shape) # (60000,)"
      ],
      "metadata": {
        "colab": {
          "base_uri": "https://localhost:8080/"
        },
        "id": "2GSM6QO46M_r",
        "outputId": "e61d0a70-518b-4258-f5e0-06f4468cd2d1"
      },
      "execution_count": 52,
      "outputs": [
        {
          "output_type": "stream",
          "name": "stdout",
          "text": [
            "(60000, 28, 28)\n",
            "(60000,)\n"
          ]
        }
      ]
    },
    {
      "cell_type": "markdown",
      "source": [
        "Визуализируем данные"
      ],
      "metadata": {
        "id": "rghED2qk7lY3"
      }
    },
    {
      "cell_type": "code",
      "source": [
        "import matplotlib.pyplot as plt\n",
        "\n",
        "fig, axes = plt.subplots(2, 9, figsize=(10, 5))\n",
        "fig.suptitle('MNIST', fontsize=20)\n",
        "n = 0\n",
        "for ax in axes.flat:\n",
        "    ax.set_yticks([])\n",
        "    ax.set_xticks([])\n",
        "    ax.imshow(train_images[n], cmap='Greys')\n",
        "    n += 1"
      ],
      "metadata": {
        "colab": {
          "base_uri": "https://localhost:8080/",
          "height": 307
        },
        "id": "7N-Is3RI6ZoZ",
        "outputId": "8bd45330-9aa1-4d61-f663-433d4cf47049"
      },
      "execution_count": 53,
      "outputs": [
        {
          "output_type": "display_data",
          "data": {
            "text/plain": [
              "<Figure size 720x360 with 18 Axes>"
            ],
            "image/png": "[encoded data removed]"
          },
          "metadata": {}
        }
      ]
    },
    {
      "cell_type": "code",
      "source": [
        "28*28"
      ],
      "metadata": {
        "colab": {
          "base_uri": "https://localhost:8080/"
        },
        "id": "preG0zDqN5PT",
        "outputId": "eda06b04-69f2-463f-f529-812e7e2989b3"
      },
      "execution_count": 54,
      "outputs": [
        {
          "output_type": "execute_result",
          "data": {
            "text/plain": [
              "784"
            ]
          },
          "metadata": {},
          "execution_count": 54
        }
      ]
    },
    {
      "cell_type": "code",
      "source": [
        "import numpy as np"
      ],
      "metadata": {
        "id": "c5F9U1qqOOTJ"
      },
      "execution_count": 55,
      "outputs": []
    },
    {
      "cell_type": "code",
      "source": [
        "# Flatten the images.\n",
        "train_images = train_images.reshape((-1, 784))\n",
        "test_images = test_images.reshape((-1, 784))\n",
        "\n",
        "print(train_images.shape) # (60000, 784)\n",
        "print(test_images.shape)  # (10000, 784)"
      ],
      "metadata": {
        "colab": {
          "base_uri": "https://localhost:8080/"
        },
        "id": "q3uaKpYl7iBx",
        "outputId": "0d1b5616-6a7a-4519-cd8c-7b7ba65116a8"
      },
      "execution_count": 56,
      "outputs": [
        {
          "output_type": "stream",
          "name": "stdout",
          "text": [
            "(60000, 784)\n",
            "(10000, 784)\n"
          ]
        }
      ]
    },
    {
      "cell_type": "markdown",
      "source": [
        "# Создание модели"
      ],
      "metadata": {
        "id": "kclZzU_w_umQ"
      }
    },
    {
      "cell_type": "code",
      "source": [
        "from tensorflow.keras.models import Sequential\n",
        "from tensorflow.keras.layers import Dense"
      ],
      "metadata": {
        "id": "raHGBEK89zbU"
      },
      "execution_count": 57,
      "outputs": []
    },
    {
      "cell_type": "markdown",
      "source": [
        "##Разное количество слоев (2,5,10,15) c одинаковым количеством нейронов 256"
      ],
      "metadata": {
        "id": "5JJ_6knJ9BW1"
      }
    },
    {
      "cell_type": "code",
      "source": [
        "model_2 = Sequential([\n",
        "      Dense(256, activation='relu', input_shape=(784,)), \n",
        "      Dense(10, activation='softmax')\n",
        "  ])\n",
        "\n",
        "model_5 = Sequential([\n",
        "      Dense(256, activation='relu', input_shape=(784,)),\n",
        "      Dense(256, activation='relu'),\n",
        "      Dense(256, activation='relu'),\n",
        "      Dense(256, activation='relu'),\n",
        "      Dense(10, activation='softmax')\n",
        "  ]) \n",
        "\n",
        "model_10 = Sequential([\n",
        "      Dense(256, activation='relu', input_shape=(784,)),\n",
        "      Dense(256, activation='relu'),\n",
        "      Dense(256, activation='relu'),\n",
        "      Dense(256, activation='relu'),\n",
        "      Dense(256, activation='relu'),\n",
        "      Dense(256, activation='relu'),\n",
        "      Dense(256, activation='relu'),\n",
        "      Dense(256, activation='relu'),\n",
        "      Dense(256, activation='relu'),\n",
        "      Dense(10, activation='softmax')\n",
        "  ])\n",
        "\n",
        "model_15l = Sequential([\n",
        "      Dense(256, activation='relu', input_shape=(784,)),\n",
        "      Dense(256, activation='relu'),\n",
        "      Dense(256, activation='relu'),\n",
        "      Dense(256, activation='relu'),\n",
        "      Dense(256, activation='relu'),\n",
        "      Dense(256, activation='relu'),\n",
        "      Dense(256, activation='relu'),\n",
        "      Dense(256, activation='relu'),\n",
        "      Dense(256, activation='relu'),\n",
        "      Dense(256, activation='relu'),\n",
        "      Dense(256, activation='relu'),\n",
        "      Dense(256, activation='relu'),\n",
        "      Dense(256, activation='relu'),\n",
        "      Dense(256, activation='relu'),\n",
        "      Dense(10, activation='softmax')\n",
        "  ])"
      ],
      "metadata": {
        "id": "9tJjwKq864iB"
      },
      "execution_count": 58,
      "outputs": []
    },
    {
      "cell_type": "code",
      "source": [
        "from tensorflow.keras.utils import to_categorical"
      ],
      "metadata": {
        "id": "DxQfMVdFB7LU"
      },
      "execution_count": 59,
      "outputs": []
    },
    {
      "cell_type": "code",
      "source": [
        "y_train = to_categorical(train_labels)\n",
        "y_test = to_categorical(test_labels)"
      ],
      "metadata": {
        "id": "SxD_E3Ix7530"
      },
      "execution_count": 60,
      "outputs": []
    },
    {
      "cell_type": "code",
      "source": [
        "res = []\n",
        "level = [2, 5, 10, 15]\n",
        "i = 0\n",
        "for model in (model_2, model_5, model_10, model_15):\n",
        "\n",
        "  result = {}\n",
        "\n",
        "  model.summary()\n",
        "\n",
        "  model.compile(\n",
        "      optimizer='adam',\n",
        "      loss='categorical_crossentropy',\n",
        "      metrics=['accuracy']\n",
        "  )\n",
        "\n",
        "  model.fit(\n",
        "      train_images,\n",
        "      to_categorical(train_labels),\n",
        "      epochs=5,\n",
        "      batch_size=32, \n",
        "      validation_split=0.2,\n",
        "      verbose=0\n",
        "  )\n",
        "\n",
        "  result_train = model.evaluate(train_images, to_categorical(train_labels), verbose=0)\n",
        "  result_test = model.evaluate(test_images, to_categorical(test_labels), verbose=0)\n",
        "\n",
        "  result['n_layers'] = level[i]\n",
        "  i += 1\n",
        "  result['acc_train'] = np.round(result_train[1], 4)\n",
        "  result['acc_test'] = np.round(result_test[1], 4)\n",
        "\n",
        "  res.append(result)"
      ],
      "metadata": {
        "id": "elgcip9j7uBB",
        "colab": {
          "base_uri": "https://localhost:8080/"
        },
        "outputId": "486763c4-cda5-44ec-bc01-cafb19812c16"
      },
      "execution_count": 61,
      "outputs": [
        {
          "output_type": "stream",
          "name": "stdout",
          "text": [
            "Model: \"sequential_24\"\n",
            "_________________________________________________________________\n",
            " Layer (type)                Output Shape              Param #   \n",
            "=================================================================\n",
            " dense_149 (Dense)           (None, 256)               200960    \n",
            "                                                                 \n",
            " dense_150 (Dense)           (None, 10)                2570      \n",
            "                                                                 \n",
            "=================================================================\n",
            "Total params: 203,530\n",
            "Trainable params: 203,530\n",
            "Non-trainable params: 0\n",
            "_________________________________________________________________\n",
            "Model: \"sequential_25\"\n",
            "_________________________________________________________________\n",
            " Layer (type)                Output Shape              Param #   \n",
            "=================================================================\n",
            " dense_151 (Dense)           (None, 256)               200960    \n",
            "                                                                 \n",
            " dense_152 (Dense)           (None, 256)               65792     \n",
            "                                                                 \n",
            " dense_153 (Dense)           (None, 256)               65792     \n",
            "                                                                 \n",
            " dense_154 (Dense)           (None, 256)               65792     \n",
            "                                                                 \n",
            " dense_155 (Dense)           (None, 10)                2570      \n",
            "                                                                 \n",
            "=================================================================\n",
            "Total params: 400,906\n",
            "Trainable params: 400,906\n",
            "Non-trainable params: 0\n",
            "_________________________________________________________________\n",
            "Model: \"sequential_26\"\n",
            "_________________________________________________________________\n",
            " Layer (type)                Output Shape              Param #   \n",
            "=================================================================\n",
            " dense_156 (Dense)           (None, 256)               200960    \n",
            "                                                                 \n",
            " dense_157 (Dense)           (None, 256)               65792     \n",
            "                                                                 \n",
            " dense_158 (Dense)           (None, 256)               65792     \n",
            "                                                                 \n",
            " dense_159 (Dense)           (None, 256)               65792     \n",
            "                                                                 \n",
            " dense_160 (Dense)           (None, 256)               65792     \n",
            "                                                                 \n",
            " dense_161 (Dense)           (None, 256)               65792     \n",
            "                                                                 \n",
            " dense_162 (Dense)           (None, 256)               65792     \n",
            "                                                                 \n",
            " dense_163 (Dense)           (None, 256)               65792     \n",
            "                                                                 \n",
            " dense_164 (Dense)           (None, 256)               65792     \n",
            "                                                                 \n",
            " dense_165 (Dense)           (None, 10)                2570      \n",
            "                                                                 \n",
            "=================================================================\n",
            "Total params: 729,866\n",
            "Trainable params: 729,866\n",
            "Non-trainable params: 0\n",
            "_________________________________________________________________\n",
            "Model: \"sequential_23\"\n",
            "_________________________________________________________________\n",
            " Layer (type)                Output Shape              Param #   \n",
            "=================================================================\n",
            " dense_134 (Dense)           (None, 108)               84780     \n",
            "                                                                 \n",
            " dense_135 (Dense)           (None, 108)               11772     \n",
            "                                                                 \n",
            " dense_136 (Dense)           (None, 108)               11772     \n",
            "                                                                 \n",
            " dense_137 (Dense)           (None, 108)               11772     \n",
            "                                                                 \n",
            " dense_138 (Dense)           (None, 108)               11772     \n",
            "                                                                 \n",
            " dense_139 (Dense)           (None, 108)               11772     \n",
            "                                                                 \n",
            " dense_140 (Dense)           (None, 108)               11772     \n",
            "                                                                 \n",
            " dense_141 (Dense)           (None, 108)               11772     \n",
            "                                                                 \n",
            " dense_142 (Dense)           (None, 108)               11772     \n",
            "                                                                 \n",
            " dense_143 (Dense)           (None, 108)               11772     \n",
            "                                                                 \n",
            " dense_144 (Dense)           (None, 108)               11772     \n",
            "                                                                 \n",
            " dense_145 (Dense)           (None, 108)               11772     \n",
            "                                                                 \n",
            " dense_146 (Dense)           (None, 108)               11772     \n",
            "                                                                 \n",
            " dense_147 (Dense)           (None, 108)               11772     \n",
            "                                                                 \n",
            " dense_148 (Dense)           (None, 10)                1090      \n",
            "                                                                 \n",
            "=================================================================\n",
            "Total params: 238,906\n",
            "Trainable params: 238,906\n",
            "Non-trainable params: 0\n",
            "_________________________________________________________________\n"
          ]
        }
      ]
    },
    {
      "cell_type": "code",
      "source": [
        "from pprint import pprint\n",
        "pprint(res)"
      ],
      "metadata": {
        "colab": {
          "base_uri": "https://localhost:8080/"
        },
        "id": "0B3pABoQ9Ukv",
        "outputId": "6221cdf6-9754-47f6-91d3-084625f99571"
      },
      "execution_count": 62,
      "outputs": [
        {
          "output_type": "stream",
          "name": "stdout",
          "text": [
            "[{'acc_test': 0.9712, 'acc_train': 0.9788, 'n_layers': 2},\n",
            " {'acc_test': 0.9645, 'acc_train': 0.9735, 'n_layers': 5},\n",
            " {'acc_test': 0.96, 'acc_train': 0.9672, 'n_layers': 10},\n",
            " {'acc_test': 0.9646, 'acc_train': 0.969, 'n_layers': 15}]\n"
          ]
        }
      ]
    },
    {
      "cell_type": "code",
      "source": [
        "model_2 = Sequential([\n",
        "      Dense(256, activation='relu', input_shape=(784,)), \n",
        "      Dense(10, activation='softmax')\n",
        "  ])\n",
        "\n",
        "model_5 = Sequential([\n",
        "      Dense(200, activation='relu', input_shape=(784,)),\n",
        "      Dense(200, activation='relu'),\n",
        "      Dense(200, activation='relu'),\n",
        "      Dense(200, activation='relu'),\n",
        "      Dense(10, activation='softmax')\n",
        "  ]) \n",
        "\n",
        "model_10 = Sequential([\n",
        "      Dense(152, activation='relu', input_shape=(784,)),\n",
        "      Dense(152, activation='relu'),\n",
        "      Dense(152, activation='relu'),\n",
        "      Dense(152, activation='relu'),\n",
        "      Dense(10, activation='softmax')\n",
        "  ]) \n",
        "\n",
        "model_15= Sequential([\n",
        "      Dense(108, activation='relu', input_shape=(784,)),\n",
        "      Dense(108, activation='relu'),\n",
        "      Dense(108, activation='relu'),\n",
        "      Dense(108, activation='relu'),\n",
        "      Dense(108, activation='relu'),\n",
        "      Dense(108, activation='relu'),\n",
        "      Dense(108, activation='relu'),\n",
        "      Dense(108, activation='relu'),\n",
        "      Dense(108, activation='relu'),\n",
        "      Dense(108, activation='relu'),\n",
        "      Dense(108, activation='relu'),\n",
        "      Dense(108, activation='relu'),\n",
        "      Dense(108, activation='relu'),\n",
        "      Dense(108, activation='relu'),\n",
        "      Dense(10, activation='softmax')\n",
        "  ])"
      ],
      "metadata": {
        "id": "YkK-V-eN99Oe"
      },
      "execution_count": 63,
      "outputs": []
    },
    {
      "cell_type": "code",
      "source": [
        "res = []\n",
        "level = [2, 5, 10, 15]\n",
        "i = 0\n",
        "for model in (model_2, model_5, model_10, model_15):\n",
        "\n",
        "  result = {}\n",
        "\n",
        "  model.summary()\n",
        "\n",
        "  model.compile(\n",
        "      optimizer='adam',\n",
        "      loss='categorical_crossentropy',\n",
        "      metrics=['accuracy']\n",
        "  )\n",
        "\n",
        "  model.fit(\n",
        "      train_images,\n",
        "      to_categorical(train_labels),\n",
        "      epochs=5,\n",
        "      batch_size=32, \n",
        "      validation_split=0.2,\n",
        "      verbose=0\n",
        "  )\n",
        "\n",
        "  result_train = model.evaluate(train_images, to_categorical(train_labels), verbose=0)\n",
        "  result_test = model.evaluate(test_images, to_categorical(test_labels), verbose=0)\n",
        "\n",
        "  result['n_layers'] = level[i]\n",
        "  i += 1\n",
        "  result['acc_train'] = np.round(result_train[1], 4)\n",
        "  result['acc_test'] = np.round(result_test[1], 4)\n",
        "\n",
        "  res.append(result)"
      ],
      "metadata": {
        "colab": {
          "base_uri": "https://localhost:8080/"
        },
        "id": "IuoqoTjb_E7M",
        "outputId": "1f9cb7ab-50dc-47be-873a-c89647e0039f"
      },
      "execution_count": 64,
      "outputs": [
        {
          "metadata": {
            "tags": null
          },
          "name": "stdout",
          "output_type": "stream",
          "text": [
            "Model: \"sequential_28\"\n",
            "_________________________________________________________________\n",
            " Layer (type)                Output Shape              Param #   \n",
            "=================================================================\n",
            " dense_181 (Dense)           (None, 256)               200960    \n",
            "                                                                 \n",
            " dense_182 (Dense)           (None, 10)                2570      \n",
            "                                                                 \n",
            "=================================================================\n",
            "Total params: 203,530\n",
            "Trainable params: 203,530\n",
            "Non-trainable params: 0\n",
            "_________________________________________________________________\n",
            "Model: \"sequential_29\"\n",
            "_________________________________________________________________\n",
            " Layer (type)                Output Shape              Param #   \n",
            "=================================================================\n",
            " dense_183 (Dense)           (None, 200)               157000    \n",
            "                                                                 \n",
            " dense_184 (Dense)           (None, 200)               40200     \n",
            "                                                                 \n",
            " dense_185 (Dense)           (None, 200)               40200     \n",
            "                                                                 \n",
            " dense_186 (Dense)           (None, 200)               40200     \n",
            "                                                                 \n",
            " dense_187 (Dense)           (None, 10)                2010      \n",
            "                                                                 \n",
            "=================================================================\n",
            "Total params: 279,610\n",
            "Trainable params: 279,610\n",
            "Non-trainable params: 0\n",
            "_________________________________________________________________\n",
            "Model: \"sequential_30\"\n",
            "_________________________________________________________________\n",
            " Layer (type)                Output Shape              Param #   \n",
            "=================================================================\n",
            " dense_188 (Dense)           (None, 152)               119320    \n",
            "                                                                 \n",
            " dense_189 (Dense)           (None, 152)               23256     \n",
            "                                                                 \n",
            " dense_190 (Dense)           (None, 152)               23256     \n",
            "                                                                 \n",
            " dense_191 (Dense)           (None, 152)               23256     \n",
            "                                                                 \n",
            " dense_192 (Dense)           (None, 10)                1530      \n",
            "                                                                 \n",
            "=================================================================\n",
            "Total params: 190,618\n",
            "Trainable params: 190,618\n",
            "Non-trainable params: 0\n",
            "_________________________________________________________________\n",
            "Model: \"sequential_31\"\n",
            "_________________________________________________________________\n",
            " Layer (type)                Output Shape              Param #   \n",
            "=================================================================\n",
            " dense_193 (Dense)           (None, 108)               84780     \n",
            "                                                                 \n",
            " dense_194 (Dense)           (None, 108)               11772     \n",
            "                                                                 \n",
            " dense_195 (Dense)           (None, 108)               11772     \n",
            "                                                                 \n",
            " dense_196 (Dense)           (None, 108)               11772     \n",
            "                                                                 \n",
            " dense_197 (Dense)           (None, 108)               11772     \n",
            "                                                                 \n",
            " dense_198 (Dense)           (None, 108)               11772     \n",
            "                                                                 \n",
            " dense_199 (Dense)           (None, 108)               11772     \n",
            "                                                                 \n",
            " dense_200 (Dense)           (None, 108)               11772     \n",
            "                                                                 \n",
            " dense_201 (Dense)           (None, 108)               11772     \n",
            "                                                                 \n",
            " dense_202 (Dense)           (None, 108)               11772     \n",
            "                                                                 \n",
            " dense_203 (Dense)           (None, 108)               11772     \n",
            "                                                                 \n",
            " dense_204 (Dense)           (None, 108)               11772     \n",
            "                                                                 \n",
            " dense_205 (Dense)           (None, 108)               11772     \n",
            "                                                                 \n",
            " dense_206 (Dense)           (None, 108)               11772     \n",
            "                                                                 \n",
            " dense_207 (Dense)           (None, 10)                1090      \n",
            "                                                                 \n",
            "=================================================================\n",
            "Total params: 238,906\n",
            "Trainable params: 238,906\n",
            "Non-trainable params: 0\n",
            "_________________________________________________________________\n"
          ]
        }
      ]
    },
    {
      "cell_type": "code",
      "source": [
        "from pprint import pprint\n",
        "pprint(res)"
      ],
      "metadata": {
        "colab": {
          "base_uri": "https://localhost:8080/"
        },
        "id": "_0RW2_hk_ZSh",
        "outputId": "407668c7-496d-4a03-f6e2-4ac75462fcdd"
      },
      "execution_count": 65,
      "outputs": [
        {
          "output_type": "stream",
          "name": "stdout",
          "text": [
            "[{'acc_test': 0.9716, 'acc_train': 0.9797, 'n_layers': 2},\n",
            " {'acc_test': 0.9701, 'acc_train': 0.9767, 'n_layers': 5},\n",
            " {'acc_test': 0.9685, 'acc_train': 0.9782, 'n_layers': 10},\n",
            " {'acc_test': 0.9501, 'acc_train': 0.9544, 'n_layers': 15}]\n"
          ]
        }
      ]
    },
    {
      "cell_type": "markdown",
      "source": [
        "##Разные оптимизаторы"
      ],
      "metadata": {
        "id": "lANhzRIBAfKy"
      }
    },
    {
      "cell_type": "markdown",
      "source": [
        "##SGD"
      ],
      "metadata": {
        "id": "D45HkUmXAl7k"
      }
    },
    {
      "cell_type": "code",
      "source": [
        "res = []\n",
        "level = [2, 5, 10, 15]\n",
        "i = 0\n",
        "for model in (model_2, model_5, model_10, model_15):\n",
        "\n",
        "  result = {}\n",
        "\n",
        "  model.summary()\n",
        "\n",
        "  model.compile(\n",
        "      optimizer='SGD',\n",
        "      loss='categorical_crossentropy',\n",
        "      metrics=['accuracy']\n",
        "  )\n",
        "\n",
        "  model.fit(\n",
        "      train_images,\n",
        "      to_categorical(train_labels),\n",
        "      epochs=5,\n",
        "      batch_size=32, \n",
        "      validation_split=0.2,\n",
        "      verbose=0\n",
        "  )\n",
        "\n",
        "  result_train = model.evaluate(train_images, to_categorical(train_labels), verbose=0)\n",
        "  result_test = model.evaluate(test_images, to_categorical(test_labels), verbose=0)\n",
        "\n",
        "  result['n_layers'] = level[i]\n",
        "  i += 1\n",
        "  result['acc_train'] = np.round(result_train[1], 4)\n",
        "  result['acc_test'] = np.round(result_test[1], 4)\n",
        "\n",
        "  res.append(result)"
      ],
      "metadata": {
        "colab": {
          "base_uri": "https://localhost:8080/"
        },
        "id": "ux-HuWO5_yT0",
        "outputId": "3abc425f-9c3a-484f-e599-53a56849f1c2"
      },
      "execution_count": 66,
      "outputs": [
        {
          "output_type": "stream",
          "name": "stdout",
          "text": [
            "Model: \"sequential_28\"\n",
            "_________________________________________________________________\n",
            " Layer (type)                Output Shape              Param #   \n",
            "=================================================================\n",
            " dense_181 (Dense)           (None, 256)               200960    \n",
            "                                                                 \n",
            " dense_182 (Dense)           (None, 10)                2570      \n",
            "                                                                 \n",
            "=================================================================\n",
            "Total params: 203,530\n",
            "Trainable params: 203,530\n",
            "Non-trainable params: 0\n",
            "_________________________________________________________________\n",
            "Model: \"sequential_29\"\n",
            "_________________________________________________________________\n",
            " Layer (type)                Output Shape              Param #   \n",
            "=================================================================\n",
            " dense_183 (Dense)           (None, 200)               157000    \n",
            "                                                                 \n",
            " dense_184 (Dense)           (None, 200)               40200     \n",
            "                                                                 \n",
            " dense_185 (Dense)           (None, 200)               40200     \n",
            "                                                                 \n",
            " dense_186 (Dense)           (None, 200)               40200     \n",
            "                                                                 \n",
            " dense_187 (Dense)           (None, 10)                2010      \n",
            "                                                                 \n",
            "=================================================================\n",
            "Total params: 279,610\n",
            "Trainable params: 279,610\n",
            "Non-trainable params: 0\n",
            "_________________________________________________________________\n",
            "Model: \"sequential_30\"\n",
            "_________________________________________________________________\n",
            " Layer (type)                Output Shape              Param #   \n",
            "=================================================================\n",
            " dense_188 (Dense)           (None, 152)               119320    \n",
            "                                                                 \n",
            " dense_189 (Dense)           (None, 152)               23256     \n",
            "                                                                 \n",
            " dense_190 (Dense)           (None, 152)               23256     \n",
            "                                                                 \n",
            " dense_191 (Dense)           (None, 152)               23256     \n",
            "                                                                 \n",
            " dense_192 (Dense)           (None, 10)                1530      \n",
            "                                                                 \n",
            "=================================================================\n",
            "Total params: 190,618\n",
            "Trainable params: 190,618\n",
            "Non-trainable params: 0\n",
            "_________________________________________________________________\n",
            "Model: \"sequential_31\"\n",
            "_________________________________________________________________\n",
            " Layer (type)                Output Shape              Param #   \n",
            "=================================================================\n",
            " dense_193 (Dense)           (None, 108)               84780     \n",
            "                                                                 \n",
            " dense_194 (Dense)           (None, 108)               11772     \n",
            "                                                                 \n",
            " dense_195 (Dense)           (None, 108)               11772     \n",
            "                                                                 \n",
            " dense_196 (Dense)           (None, 108)               11772     \n",
            "                                                                 \n",
            " dense_197 (Dense)           (None, 108)               11772     \n",
            "                                                                 \n",
            " dense_198 (Dense)           (None, 108)               11772     \n",
            "                                                                 \n",
            " dense_199 (Dense)           (None, 108)               11772     \n",
            "                                                                 \n",
            " dense_200 (Dense)           (None, 108)               11772     \n",
            "                                                                 \n",
            " dense_201 (Dense)           (None, 108)               11772     \n",
            "                                                                 \n",
            " dense_202 (Dense)           (None, 108)               11772     \n",
            "                                                                 \n",
            " dense_203 (Dense)           (None, 108)               11772     \n",
            "                                                                 \n",
            " dense_204 (Dense)           (None, 108)               11772     \n",
            "                                                                 \n",
            " dense_205 (Dense)           (None, 108)               11772     \n",
            "                                                                 \n",
            " dense_206 (Dense)           (None, 108)               11772     \n",
            "                                                                 \n",
            " dense_207 (Dense)           (None, 10)                1090      \n",
            "                                                                 \n",
            "=================================================================\n",
            "Total params: 238,906\n",
            "Trainable params: 238,906\n",
            "Non-trainable params: 0\n",
            "_________________________________________________________________\n"
          ]
        }
      ]
    },
    {
      "cell_type": "code",
      "source": [
        "from pprint import pprint\n",
        "pprint(res)"
      ],
      "metadata": {
        "id": "DV7OSBGXBJpA"
      },
      "execution_count": null,
      "outputs": []
    },
    {
      "cell_type": "markdown",
      "source": [
        "##RMSProp"
      ],
      "metadata": {
        "id": "paWoDzK3BCf2"
      }
    },
    {
      "cell_type": "code",
      "source": [
        "res = []\n",
        "level = [2, 5, 10, 15]\n",
        "i = 0\n",
        "for model in (model_2, model_5, model_10, model_15):\n",
        "\n",
        "  result = {}\n",
        "\n",
        "  model.summary()\n",
        "\n",
        "  model.compile(\n",
        "      optimizer='RMSProp',\n",
        "      loss='categorical_crossentropy',\n",
        "      metrics=['accuracy']\n",
        "  )\n",
        "\n",
        "  model.fit(\n",
        "      train_images,\n",
        "      to_categorical(train_labels),\n",
        "      epochs=5,\n",
        "      batch_size=32, \n",
        "      validation_split=0.2,\n",
        "      verbose=0\n",
        "  )\n",
        "\n",
        "  result_train = model.evaluate(train_images, to_categorical(train_labels), verbose=0)\n",
        "  result_test = model.evaluate(test_images, to_categorical(test_labels), verbose=0)\n",
        "\n",
        "  result['n_layers'] = level[i]\n",
        "  i += 1\n",
        "  result['acc_train'] = np.round(result_train[1], 4)\n",
        "  result['acc_test'] = np.round(result_test[1], 4)\n",
        "\n",
        "  res.append(result)"
      ],
      "metadata": {
        "id": "ivUlyE9_A7Dw"
      },
      "execution_count": null,
      "outputs": []
    },
    {
      "cell_type": "code",
      "source": [
        "from pprint import pprint\n",
        "pprint(res)"
      ],
      "metadata": {
        "id": "-GyYuPUhBLLn"
      },
      "execution_count": null,
      "outputs": []
    },
    {
      "cell_type": "markdown",
      "source": [
        "##Выводы:\n",
        "*на качество модели влияют:\n",
        "1. функция активации\n",
        "2. количество слоев\n",
        "3. Количество нейронов"
      ],
      "metadata": {
        "id": "DJrQb4sk_yns"
      }
    }
  ]
}