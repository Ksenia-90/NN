{
  "nbformat": 4,
  "nbformat_minor": 0,
  "metadata": {
    "colab": {
      "name": "dz_7.ipynb",
      "provenance": [],
      "authorship_tag": "ABX9TyNpRongWHMN2yWYDA5fQD56",
      "include_colab_link": true
    },
    "kernelspec": {
      "name": "python3",
      "display_name": "Python 3"
    },
    "language_info": {
      "name": "python"
    }
  },
  "cells": [
    {
      "cell_type": "markdown",
      "metadata": {
        "id": "view-in-github",
        "colab_type": "text"
      },
      "source": [
        "<a href=\"https://colab.research.google.com/github/Ksenia-90/NN/blob/lesson_7/dz_7.ipynb\" target=\"_parent\"><img src=\"https://colab.research.google.com/assets/colab-badge.svg\" alt=\"Open In Colab\"/></a>"
      ]
    },
    {
      "cell_type": "markdown",
      "source": [
        "##Урок 7. Детектирование объектов"
      ],
      "metadata": {
        "id": "XVUrcks5Jxd6"
      }
    },
    {
      "cell_type": "markdown",
      "source": [
        "Point-GNN: Graph Neural Network for 3D Object Detection in a Point Cloud: \n",
        "https://openaccess.thecvf.com/content_CVPR_2020/papers/Shi_Point-GNN_Graph_Neural_Network_for_3D_Object_Detection_in_a_CVPR_2020_paper.pdf"
      ],
      "metadata": {
        "id": "idZjiOMlJxph"
      }
    },
    {
      "cell_type": "markdown",
      "source": [
        "В данной статье описывается 3D моделирование.\n",
        "В статье эксперты утверждают, что контрольные показатели показывают, что предлагаемый подход достигает лидирующих\n",
        "точность с использованием только облака точек и может даже превзойти алгоритмы на основе слияния, демонстрируют\n",
        "потенциал использования графовой нейронной сети как нового подхода к обнаружению 3D-объектов.\n",
        "Loss oписан в пункте 3.3\n",
        "Oперация свертки эффективна, но для нее требуется регулярная сетка,  В отличие от изображения, облако точек обычно является разреженным и\n",
        "неравномерно распределены по регулярной сетке. \n",
        "Учеными, в статье, предполается что данная сеть будет использоваться для высокоточного обнаружения обьектов.\n",
        "Point-GNN принимает точечный график в качестве входных данных. Выводит категорию и ограничивающие рамки объектов, которым принадлежит каждая вершина.\n",
        "В статье дается ссылка на код:\n",
        "https://github.com/WeijingShi/Point-GNN."
      ],
      "metadata": {
        "id": "n6MQZm6tKeRx"
      }
    }
  ]
}